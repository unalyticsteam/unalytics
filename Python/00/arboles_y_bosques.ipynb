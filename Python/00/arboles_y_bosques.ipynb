{
  "nbformat": 4,
  "nbformat_minor": 0,
  "metadata": {
    "colab": {
      "name": "arboles_y_bosques.ipynb",
      "provenance": [],
      "collapsed_sections": []
    },
    "kernelspec": {
      "name": "python3",
      "display_name": "Python 3"
    }
  },
  "cells": [
    {
      "cell_type": "markdown",
      "metadata": {
        "id": "vuOSZ55ju5-r",
        "colab_type": "text"
      },
      "source": [
        "\n",
        "# Árboles de decisión\n",
        "---"
      ]
    },
    {
      "cell_type": "markdown",
      "metadata": {
        "id": "l6o0shFejGIi",
        "colab_type": "text"
      },
      "source": [
        "**Los árboles de decisión** son un método de aprendizaje supervisado no paramétrico utilizado para la clasificación y la regresión, es un modelo que no es sensible a los NA ni a valores atipicos.\n",
        "\n",
        "los árboles de decisión aprenden de los datos para aproximar curva con un conjunto de reglas de decisión if/else, ver ejemplo acontinuación. \n",
        "\n",
        "<center>\n",
        "<img src=\"https://scikit-learn.org/stable/_images/sphx_glr_plot_tree_regression_001.png\" width = 600>\n",
        "</center>\n",
        "\n",
        "Un arbol de decisión posee los siguientes elementos: \n",
        "\n",
        "* nodo raiz\n",
        "* ramas\n",
        "* nodos de decisión\n",
        "* nodo hojas\n",
        "\n",
        "<center>\n",
        "<img src=\"https://upload.wikimedia.org/wikipedia/commons/f/f3/CART_tree_titanic_survivors.png\" width = 400>\n",
        "</center>\n"
      ]
    },
    {
      "cell_type": "markdown",
      "metadata": {
        "id": "I-ZiyYkVmxxs",
        "colab_type": "text"
      },
      "source": [
        "\n",
        "# Árboles de Clasificación \n",
        "---\n",
        "<h2 align=\"center\">Data set Iris</h2>\n",
        "<center>\n",
        "<img src=\"http://suruchifialoke.com/img/ML/iris.png\" width=\"600\">"
      ]
    },
    {
      "cell_type": "code",
      "metadata": {
        "id": "SN-wsNQGpiIV",
        "colab_type": "code",
        "colab": {}
      },
      "source": [
        "# Cargando librerias\n",
        "import pandas as pd\n",
        "import matplotlib.pyplot as plt\n",
        "import numpy as np\n"
      ],
      "execution_count": 0,
      "outputs": []
    },
    {
      "cell_type": "code",
      "metadata": {
        "id": "0bFZ_-iom1_K",
        "colab_type": "code",
        "colab": {}
      },
      "source": [
        "# leyendo la base de datos del repositorio de unalytics\n",
        "data = pd.read_csv(\"https://raw.githubusercontent.com/unalyticsteam/databases/master/iris.csv\")"
      ],
      "execution_count": 0,
      "outputs": []
    },
    {
      "cell_type": "code",
      "metadata": {
        "id": "2N8UQZMXqbCk",
        "colab_type": "code",
        "outputId": "cfb87835-01fc-4d38-8cf3-ddc0e43d74c2",
        "colab": {
          "base_uri": "https://localhost:8080/",
          "height": 137
        }
      },
      "source": [
        "data.head(3)"
      ],
      "execution_count": 29,
      "outputs": [
        {
          "output_type": "execute_result",
          "data": {
            "text/html": [
              "<div>\n",
              "<style scoped>\n",
              "    .dataframe tbody tr th:only-of-type {\n",
              "        vertical-align: middle;\n",
              "    }\n",
              "\n",
              "    .dataframe tbody tr th {\n",
              "        vertical-align: top;\n",
              "    }\n",
              "\n",
              "    .dataframe thead th {\n",
              "        text-align: right;\n",
              "    }\n",
              "</style>\n",
              "<table border=\"1\" class=\"dataframe\">\n",
              "  <thead>\n",
              "    <tr style=\"text-align: right;\">\n",
              "      <th></th>\n",
              "      <th>Sepal.Length</th>\n",
              "      <th>Sepal.Width</th>\n",
              "      <th>Petal.Length</th>\n",
              "      <th>Petal.Width</th>\n",
              "      <th>Species</th>\n",
              "    </tr>\n",
              "  </thead>\n",
              "  <tbody>\n",
              "    <tr>\n",
              "      <th>0</th>\n",
              "      <td>5.1</td>\n",
              "      <td>3.5</td>\n",
              "      <td>1.4</td>\n",
              "      <td>0.2</td>\n",
              "      <td>setosa</td>\n",
              "    </tr>\n",
              "    <tr>\n",
              "      <th>1</th>\n",
              "      <td>4.9</td>\n",
              "      <td>3.0</td>\n",
              "      <td>1.4</td>\n",
              "      <td>0.2</td>\n",
              "      <td>setosa</td>\n",
              "    </tr>\n",
              "    <tr>\n",
              "      <th>2</th>\n",
              "      <td>4.7</td>\n",
              "      <td>3.2</td>\n",
              "      <td>1.3</td>\n",
              "      <td>0.2</td>\n",
              "      <td>setosa</td>\n",
              "    </tr>\n",
              "  </tbody>\n",
              "</table>\n",
              "</div>"
            ],
            "text/plain": [
              "   Sepal.Length  Sepal.Width  Petal.Length  Petal.Width Species\n",
              "0           5.1          3.5           1.4          0.2  setosa\n",
              "1           4.9          3.0           1.4          0.2  setosa\n",
              "2           4.7          3.2           1.3          0.2  setosa"
            ]
          },
          "metadata": {
            "tags": []
          },
          "execution_count": 29
        }
      ]
    },
    {
      "cell_type": "markdown",
      "metadata": {
        "id": "rkRDNYMNtMVa",
        "colab_type": "text"
      },
      "source": [
        "### Preparando los datos. \n",
        "---\n",
        "Lo primero es identificar las variables que me serviran de predictores y cual la varible objetivo.\n"
      ]
    },
    {
      "cell_type": "code",
      "metadata": {
        "id": "gF9J8ziUqqPH",
        "colab_type": "code",
        "colab": {}
      },
      "source": [
        "# tomando los nombres de las variables en una lista\n",
        "colnames = data.columns.values.tolist()"
      ],
      "execution_count": 0,
      "outputs": []
    },
    {
      "cell_type": "code",
      "metadata": {
        "id": "Y-gc1mhpqlUx",
        "colab_type": "code",
        "colab": {}
      },
      "source": [
        "# identificando predictores y variable de respuesta\n",
        "predictors = colnames[:4]\n",
        "target = colnames[4]"
      ],
      "execution_count": 0,
      "outputs": []
    },
    {
      "cell_type": "markdown",
      "metadata": {
        "id": "1Q156w4pucTM",
        "colab_type": "text"
      },
      "source": [
        "Tomemos una muestra aleatoria del aproximadamente el 75 % de las observaciones como datos de entrenamiento y el restante 25 % como datos de prueba. "
      ]
    },
    {
      "cell_type": "code",
      "metadata": {
        "id": "mdMJOKcHubgU",
        "colab_type": "code",
        "colab": {}
      },
      "source": [
        "# creando una columna para identificar cuales observaciones nos serviran como datos de prueba. \n",
        "data[\"is_train\"] = np.random.uniform(low=0, high=1, size= len(data)) <= 0.75"
      ],
      "execution_count": 0,
      "outputs": []
    },
    {
      "cell_type": "code",
      "metadata": {
        "id": "o0pC-ebtu1aE",
        "colab_type": "code",
        "outputId": "0aaa7ff4-6503-4776-f6c4-609fe32f5d8f",
        "colab": {
          "base_uri": "https://localhost:8080/",
          "height": 197
        }
      },
      "source": [
        "data.head(5)"
      ],
      "execution_count": 37,
      "outputs": [
        {
          "output_type": "execute_result",
          "data": {
            "text/html": [
              "<div>\n",
              "<style scoped>\n",
              "    .dataframe tbody tr th:only-of-type {\n",
              "        vertical-align: middle;\n",
              "    }\n",
              "\n",
              "    .dataframe tbody tr th {\n",
              "        vertical-align: top;\n",
              "    }\n",
              "\n",
              "    .dataframe thead th {\n",
              "        text-align: right;\n",
              "    }\n",
              "</style>\n",
              "<table border=\"1\" class=\"dataframe\">\n",
              "  <thead>\n",
              "    <tr style=\"text-align: right;\">\n",
              "      <th></th>\n",
              "      <th>Sepal.Length</th>\n",
              "      <th>Sepal.Width</th>\n",
              "      <th>Petal.Length</th>\n",
              "      <th>Petal.Width</th>\n",
              "      <th>Species</th>\n",
              "      <th>is_train</th>\n",
              "    </tr>\n",
              "  </thead>\n",
              "  <tbody>\n",
              "    <tr>\n",
              "      <th>0</th>\n",
              "      <td>5.1</td>\n",
              "      <td>3.5</td>\n",
              "      <td>1.4</td>\n",
              "      <td>0.2</td>\n",
              "      <td>setosa</td>\n",
              "      <td>True</td>\n",
              "    </tr>\n",
              "    <tr>\n",
              "      <th>1</th>\n",
              "      <td>4.9</td>\n",
              "      <td>3.0</td>\n",
              "      <td>1.4</td>\n",
              "      <td>0.2</td>\n",
              "      <td>setosa</td>\n",
              "      <td>True</td>\n",
              "    </tr>\n",
              "    <tr>\n",
              "      <th>2</th>\n",
              "      <td>4.7</td>\n",
              "      <td>3.2</td>\n",
              "      <td>1.3</td>\n",
              "      <td>0.2</td>\n",
              "      <td>setosa</td>\n",
              "      <td>True</td>\n",
              "    </tr>\n",
              "    <tr>\n",
              "      <th>3</th>\n",
              "      <td>4.6</td>\n",
              "      <td>3.1</td>\n",
              "      <td>1.5</td>\n",
              "      <td>0.2</td>\n",
              "      <td>setosa</td>\n",
              "      <td>False</td>\n",
              "    </tr>\n",
              "    <tr>\n",
              "      <th>4</th>\n",
              "      <td>5.0</td>\n",
              "      <td>3.6</td>\n",
              "      <td>1.4</td>\n",
              "      <td>0.2</td>\n",
              "      <td>setosa</td>\n",
              "      <td>True</td>\n",
              "    </tr>\n",
              "  </tbody>\n",
              "</table>\n",
              "</div>"
            ],
            "text/plain": [
              "   Sepal.Length  Sepal.Width  Petal.Length  Petal.Width Species  is_train\n",
              "0           5.1          3.5           1.4          0.2  setosa      True\n",
              "1           4.9          3.0           1.4          0.2  setosa      True\n",
              "2           4.7          3.2           1.3          0.2  setosa      True\n",
              "3           4.6          3.1           1.5          0.2  setosa     False\n",
              "4           5.0          3.6           1.4          0.2  setosa      True"
            ]
          },
          "metadata": {
            "tags": []
          },
          "execution_count": 37
        }
      ]
    },
    {
      "cell_type": "code",
      "metadata": {
        "id": "QhOFxeQZxROb",
        "colab_type": "code",
        "colab": {}
      },
      "source": [
        "# tomando los datos de entrenamiento y los datos de prueba\n",
        "train, test = data[data[\"is_train\"] == True] , data[data[\"is_train\"]== False]  "
      ],
      "execution_count": 0,
      "outputs": []
    },
    {
      "cell_type": "code",
      "metadata": {
        "id": "TmUdC2zHxmtU",
        "colab_type": "code",
        "outputId": "86fa7a68-4016-4ef1-c2d6-045355123cc6",
        "colab": {
          "base_uri": "https://localhost:8080/",
          "height": 137
        }
      },
      "source": [
        "# observemos las primeras entradas\n",
        "train.head(3)"
      ],
      "execution_count": 40,
      "outputs": [
        {
          "output_type": "execute_result",
          "data": {
            "text/html": [
              "<div>\n",
              "<style scoped>\n",
              "    .dataframe tbody tr th:only-of-type {\n",
              "        vertical-align: middle;\n",
              "    }\n",
              "\n",
              "    .dataframe tbody tr th {\n",
              "        vertical-align: top;\n",
              "    }\n",
              "\n",
              "    .dataframe thead th {\n",
              "        text-align: right;\n",
              "    }\n",
              "</style>\n",
              "<table border=\"1\" class=\"dataframe\">\n",
              "  <thead>\n",
              "    <tr style=\"text-align: right;\">\n",
              "      <th></th>\n",
              "      <th>Sepal.Length</th>\n",
              "      <th>Sepal.Width</th>\n",
              "      <th>Petal.Length</th>\n",
              "      <th>Petal.Width</th>\n",
              "      <th>Species</th>\n",
              "      <th>is_train</th>\n",
              "    </tr>\n",
              "  </thead>\n",
              "  <tbody>\n",
              "    <tr>\n",
              "      <th>0</th>\n",
              "      <td>5.1</td>\n",
              "      <td>3.5</td>\n",
              "      <td>1.4</td>\n",
              "      <td>0.2</td>\n",
              "      <td>setosa</td>\n",
              "      <td>True</td>\n",
              "    </tr>\n",
              "    <tr>\n",
              "      <th>1</th>\n",
              "      <td>4.9</td>\n",
              "      <td>3.0</td>\n",
              "      <td>1.4</td>\n",
              "      <td>0.2</td>\n",
              "      <td>setosa</td>\n",
              "      <td>True</td>\n",
              "    </tr>\n",
              "    <tr>\n",
              "      <th>2</th>\n",
              "      <td>4.7</td>\n",
              "      <td>3.2</td>\n",
              "      <td>1.3</td>\n",
              "      <td>0.2</td>\n",
              "      <td>setosa</td>\n",
              "      <td>True</td>\n",
              "    </tr>\n",
              "  </tbody>\n",
              "</table>\n",
              "</div>"
            ],
            "text/plain": [
              "   Sepal.Length  Sepal.Width  Petal.Length  Petal.Width Species  is_train\n",
              "0           5.1          3.5           1.4          0.2  setosa      True\n",
              "1           4.9          3.0           1.4          0.2  setosa      True\n",
              "2           4.7          3.2           1.3          0.2  setosa      True"
            ]
          },
          "metadata": {
            "tags": []
          },
          "execution_count": 40
        }
      ]
    },
    {
      "cell_type": "code",
      "metadata": {
        "id": "oetzsiAwyjjZ",
        "colab_type": "code",
        "colab": {}
      },
      "source": [
        "# Importando librerias \n",
        "# sklearn: biblioteca para aprendizaje de máquina de software libre (Incluye varios algoritmos de clasificación, regresión y análisis de grupos)\n",
        "from sklearn.tree import DecisionTreeClassifier"
      ],
      "execution_count": 0,
      "outputs": []
    },
    {
      "cell_type": "code",
      "metadata": {
        "id": "StwRdni4y1R-",
        "colab_type": "code",
        "outputId": "28219a96-793a-43c6-c44a-d755b98da0de",
        "colab": {
          "base_uri": "https://localhost:8080/",
          "height": 116
        }
      },
      "source": [
        "# creando el árbol. \n",
        "tree = DecisionTreeClassifier(criterion=\"entropy\", min_samples_split=20, random_state= 99)\n",
        "tree.fit(train[predictors], train[target])"
      ],
      "execution_count": 42,
      "outputs": [
        {
          "output_type": "execute_result",
          "data": {
            "text/plain": [
              "DecisionTreeClassifier(class_weight=None, criterion='entropy', max_depth=None,\n",
              "                       max_features=None, max_leaf_nodes=None,\n",
              "                       min_impurity_decrease=0.0, min_impurity_split=None,\n",
              "                       min_samples_leaf=1, min_samples_split=20,\n",
              "                       min_weight_fraction_leaf=0.0, presort=False,\n",
              "                       random_state=99, splitter='best')"
            ]
          },
          "metadata": {
            "tags": []
          },
          "execution_count": 42
        }
      ]
    },
    {
      "cell_type": "markdown",
      "metadata": {
        "id": "JmDulM9QTkIl",
        "colab_type": "text"
      },
      "source": [
        "### Predicción"
      ]
    },
    {
      "cell_type": "code",
      "metadata": {
        "id": "JGbN9HHnBpMq",
        "colab_type": "code",
        "colab": {}
      },
      "source": [
        "# predicciones\n",
        "preds = tree.predict(test[predictors])\n"
      ],
      "execution_count": 0,
      "outputs": []
    },
    {
      "cell_type": "code",
      "metadata": {
        "id": "J6X_7jdnuqZe",
        "colab_type": "code",
        "colab": {
          "base_uri": "https://localhost:8080/",
          "height": 167
        },
        "outputId": "b6612c94-bacd-470b-9a35-b646e66642bf"
      },
      "source": [
        "# Matriz de confusión. \n",
        "pd.crosstab(test[target], preds, rownames=[\"acutual\"], colnames=[\"predictors\"])"
      ],
      "execution_count": 45,
      "outputs": [
        {
          "output_type": "execute_result",
          "data": {
            "text/html": [
              "<div>\n",
              "<style scoped>\n",
              "    .dataframe tbody tr th:only-of-type {\n",
              "        vertical-align: middle;\n",
              "    }\n",
              "\n",
              "    .dataframe tbody tr th {\n",
              "        vertical-align: top;\n",
              "    }\n",
              "\n",
              "    .dataframe thead th {\n",
              "        text-align: right;\n",
              "    }\n",
              "</style>\n",
              "<table border=\"1\" class=\"dataframe\">\n",
              "  <thead>\n",
              "    <tr style=\"text-align: right;\">\n",
              "      <th>predictors</th>\n",
              "      <th>setosa</th>\n",
              "      <th>versicolor</th>\n",
              "      <th>virginica</th>\n",
              "    </tr>\n",
              "    <tr>\n",
              "      <th>acutual</th>\n",
              "      <th></th>\n",
              "      <th></th>\n",
              "      <th></th>\n",
              "    </tr>\n",
              "  </thead>\n",
              "  <tbody>\n",
              "    <tr>\n",
              "      <th>setosa</th>\n",
              "      <td>12</td>\n",
              "      <td>0</td>\n",
              "      <td>0</td>\n",
              "    </tr>\n",
              "    <tr>\n",
              "      <th>versicolor</th>\n",
              "      <td>0</td>\n",
              "      <td>12</td>\n",
              "      <td>0</td>\n",
              "    </tr>\n",
              "    <tr>\n",
              "      <th>virginica</th>\n",
              "      <td>0</td>\n",
              "      <td>3</td>\n",
              "      <td>9</td>\n",
              "    </tr>\n",
              "  </tbody>\n",
              "</table>\n",
              "</div>"
            ],
            "text/plain": [
              "predictors  setosa  versicolor  virginica\n",
              "acutual                                  \n",
              "setosa          12           0          0\n",
              "versicolor       0          12          0\n",
              "virginica        0           3          9"
            ]
          },
          "metadata": {
            "tags": []
          },
          "execution_count": 45
        }
      ]
    },
    {
      "cell_type": "markdown",
      "metadata": {
        "id": "hZj79Sxuvrid",
        "colab_type": "text"
      },
      "source": [
        "### Vusualización"
      ]
    },
    {
      "cell_type": "code",
      "metadata": {
        "id": "RysTPjktyA27",
        "colab_type": "code",
        "colab": {
          "base_uri": "https://localhost:8080/",
          "height": 33
        },
        "outputId": "62a9a203-6d38-4190-edd4-c2f965a09729"
      },
      "source": [
        "# Instalacion en colab. \n",
        "! pip install graphviz"
      ],
      "execution_count": 46,
      "outputs": [
        {
          "output_type": "stream",
          "text": [
            "Requirement already satisfied: graphviz in /usr/local/lib/python3.6/dist-packages (0.10.1)\n"
          ],
          "name": "stdout"
        }
      ]
    },
    {
      "cell_type": "code",
      "metadata": {
        "id": "iTHak121vxdf",
        "colab_type": "code",
        "colab": {}
      },
      "source": [
        "# importando libreria de visualización. \n",
        "from sklearn.tree import export_graphviz"
      ],
      "execution_count": 0,
      "outputs": []
    },
    {
      "cell_type": "code",
      "metadata": {
        "id": "y5ZuX5tOvxZR",
        "colab_type": "code",
        "colab": {}
      },
      "source": [
        "# hay que exportar como .dot (grafos)\n",
        "with open(\"dtree.dot\", \"w\") as dotfile:\n",
        "    export_graphviz(tree, out_file=dotfile, feature_names=predictors)\n",
        "    dotfile.close()"
      ],
      "execution_count": 0,
      "outputs": []
    },
    {
      "cell_type": "code",
      "metadata": {
        "id": "96rb_uy_vOjj",
        "colab_type": "code",
        "colab": {
          "base_uri": "https://localhost:8080/",
          "height": 656
        },
        "outputId": "e7b98618-b685-4690-9452-ec5c565f1269"
      },
      "source": [
        "# leyendo el objeto.\n",
        "from graphviz import Source\n",
        "file = open(\"dtree.dot\", \"r\")\n",
        "text = file.read()\n",
        "Source(text)"
      ],
      "execution_count": 50,
      "outputs": [
        {
          "output_type": "execute_result",
          "data": {
            "text/plain": [
              "<graphviz.files.Source at 0x7f251015cba8>"
            ],
            "image/svg+xml": "<?xml version=\"1.0\" encoding=\"UTF-8\" standalone=\"no\"?>\n<!DOCTYPE svg PUBLIC \"-//W3C//DTD SVG 1.1//EN\"\n \"http://www.w3.org/Graphics/SVG/1.1/DTD/svg11.dtd\">\n<!-- Generated by graphviz version 2.40.1 (20161225.0304)\n -->\n<!-- Title: Tree Pages: 1 -->\n<svg width=\"608pt\" height=\"477pt\"\n viewBox=\"0.00 0.00 607.50 477.00\" xmlns=\"http://www.w3.org/2000/svg\" xmlns:xlink=\"http://www.w3.org/1999/xlink\">\n<g id=\"graph0\" class=\"graph\" transform=\"scale(1 1) rotate(0) translate(4 473)\">\n<title>Tree</title>\n<polygon fill=\"#ffffff\" stroke=\"transparent\" points=\"-4,4 -4,-473 603.5,-473 603.5,4 -4,4\"/>\n<!-- 0 -->\n<g id=\"node1\" class=\"node\">\n<title>0</title>\n<polygon fill=\"none\" stroke=\"#000000\" points=\"331,-469 199,-469 199,-401 331,-401 331,-469\"/>\n<text text-anchor=\"middle\" x=\"265\" y=\"-453.8\" font-family=\"Times,serif\" font-size=\"14.00\" fill=\"#000000\">Petal.Length &lt;= 2.6</text>\n<text text-anchor=\"middle\" x=\"265\" y=\"-438.8\" font-family=\"Times,serif\" font-size=\"14.00\" fill=\"#000000\">entropy = 1.573</text>\n<text text-anchor=\"middle\" x=\"265\" y=\"-423.8\" font-family=\"Times,serif\" font-size=\"14.00\" fill=\"#000000\">samples = 114</text>\n<text text-anchor=\"middle\" x=\"265\" y=\"-408.8\" font-family=\"Times,serif\" font-size=\"14.00\" fill=\"#000000\">value = [38, 32, 44]</text>\n</g>\n<!-- 1 -->\n<g id=\"node2\" class=\"node\">\n<title>1</title>\n<polygon fill=\"none\" stroke=\"#000000\" points=\"251.5,-357.5 134.5,-357.5 134.5,-304.5 251.5,-304.5 251.5,-357.5\"/>\n<text text-anchor=\"middle\" x=\"193\" y=\"-342.3\" font-family=\"Times,serif\" font-size=\"14.00\" fill=\"#000000\">entropy = 0.0</text>\n<text text-anchor=\"middle\" x=\"193\" y=\"-327.3\" font-family=\"Times,serif\" font-size=\"14.00\" fill=\"#000000\">samples = 38</text>\n<text text-anchor=\"middle\" x=\"193\" y=\"-312.3\" font-family=\"Times,serif\" font-size=\"14.00\" fill=\"#000000\">value = [38, 0, 0]</text>\n</g>\n<!-- 0&#45;&gt;1 -->\n<g id=\"edge1\" class=\"edge\">\n<title>0&#45;&gt;1</title>\n<path fill=\"none\" stroke=\"#000000\" d=\"M241.4245,-400.9465C233.6463,-389.7113 224.9861,-377.2021 217.1645,-365.9043\"/>\n<polygon fill=\"#000000\" stroke=\"#000000\" points=\"219.9452,-363.7719 211.3753,-357.5422 214.1898,-367.7564 219.9452,-363.7719\"/>\n<text text-anchor=\"middle\" x=\"206.9032\" y=\"-378.4389\" font-family=\"Times,serif\" font-size=\"14.00\" fill=\"#000000\">True</text>\n</g>\n<!-- 2 -->\n<g id=\"node3\" class=\"node\">\n<title>2</title>\n<polygon fill=\"none\" stroke=\"#000000\" points=\"404,-365 270,-365 270,-297 404,-297 404,-365\"/>\n<text text-anchor=\"middle\" x=\"337\" y=\"-349.8\" font-family=\"Times,serif\" font-size=\"14.00\" fill=\"#000000\">Petal.Width &lt;= 1.75</text>\n<text text-anchor=\"middle\" x=\"337\" y=\"-334.8\" font-family=\"Times,serif\" font-size=\"14.00\" fill=\"#000000\">entropy = 0.982</text>\n<text text-anchor=\"middle\" x=\"337\" y=\"-319.8\" font-family=\"Times,serif\" font-size=\"14.00\" fill=\"#000000\">samples = 76</text>\n<text text-anchor=\"middle\" x=\"337\" y=\"-304.8\" font-family=\"Times,serif\" font-size=\"14.00\" fill=\"#000000\">value = [0, 32, 44]</text>\n</g>\n<!-- 0&#45;&gt;2 -->\n<g id=\"edge2\" class=\"edge\">\n<title>0&#45;&gt;2</title>\n<path fill=\"none\" stroke=\"#000000\" d=\"M288.5755,-400.9465C294.6671,-392.1475 301.2996,-382.5672 307.6466,-373.3993\"/>\n<polygon fill=\"#000000\" stroke=\"#000000\" points=\"310.5571,-375.3442 313.3715,-365.13 304.8017,-371.3597 310.5571,-375.3442\"/>\n<text text-anchor=\"middle\" x=\"317.8437\" y=\"-386.0267\" font-family=\"Times,serif\" font-size=\"14.00\" fill=\"#000000\">False</text>\n</g>\n<!-- 3 -->\n<g id=\"node4\" class=\"node\">\n<title>3</title>\n<polygon fill=\"none\" stroke=\"#000000\" points=\"328,-261 188,-261 188,-193 328,-193 328,-261\"/>\n<text text-anchor=\"middle\" x=\"258\" y=\"-245.8\" font-family=\"Times,serif\" font-size=\"14.00\" fill=\"#000000\">Petal.Length &lt;= 4.95</text>\n<text text-anchor=\"middle\" x=\"258\" y=\"-230.8\" font-family=\"Times,serif\" font-size=\"14.00\" fill=\"#000000\">entropy = 0.513</text>\n<text text-anchor=\"middle\" x=\"258\" y=\"-215.8\" font-family=\"Times,serif\" font-size=\"14.00\" fill=\"#000000\">samples = 35</text>\n<text text-anchor=\"middle\" x=\"258\" y=\"-200.8\" font-family=\"Times,serif\" font-size=\"14.00\" fill=\"#000000\">value = [0, 31, 4]</text>\n</g>\n<!-- 2&#45;&gt;3 -->\n<g id=\"edge3\" class=\"edge\">\n<title>2&#45;&gt;3</title>\n<path fill=\"none\" stroke=\"#000000\" d=\"M311.1324,-296.9465C304.3804,-288.0578 297.0226,-278.3716 289.9941,-269.1188\"/>\n<polygon fill=\"#000000\" stroke=\"#000000\" points=\"292.7617,-266.976 283.9257,-261.13 287.1875,-271.2102 292.7617,-266.976\"/>\n</g>\n<!-- 8 -->\n<g id=\"node9\" class=\"node\">\n<title>8</title>\n<polygon fill=\"none\" stroke=\"#000000\" points=\"486,-261 346,-261 346,-193 486,-193 486,-261\"/>\n<text text-anchor=\"middle\" x=\"416\" y=\"-245.8\" font-family=\"Times,serif\" font-size=\"14.00\" fill=\"#000000\">Petal.Length &lt;= 4.85</text>\n<text text-anchor=\"middle\" x=\"416\" y=\"-230.8\" font-family=\"Times,serif\" font-size=\"14.00\" fill=\"#000000\">entropy = 0.165</text>\n<text text-anchor=\"middle\" x=\"416\" y=\"-215.8\" font-family=\"Times,serif\" font-size=\"14.00\" fill=\"#000000\">samples = 41</text>\n<text text-anchor=\"middle\" x=\"416\" y=\"-200.8\" font-family=\"Times,serif\" font-size=\"14.00\" fill=\"#000000\">value = [0, 1, 40]</text>\n</g>\n<!-- 2&#45;&gt;8 -->\n<g id=\"edge8\" class=\"edge\">\n<title>2&#45;&gt;8</title>\n<path fill=\"none\" stroke=\"#000000\" d=\"M362.8676,-296.9465C369.6196,-288.0578 376.9774,-278.3716 384.0059,-269.1188\"/>\n<polygon fill=\"#000000\" stroke=\"#000000\" points=\"386.8125,-271.2102 390.0743,-261.13 381.2383,-266.976 386.8125,-271.2102\"/>\n</g>\n<!-- 4 -->\n<g id=\"node5\" class=\"node\">\n<title>4</title>\n<polygon fill=\"none\" stroke=\"#000000\" points=\"192.5,-157 49.5,-157 49.5,-89 192.5,-89 192.5,-157\"/>\n<text text-anchor=\"middle\" x=\"121\" y=\"-141.8\" font-family=\"Times,serif\" font-size=\"14.00\" fill=\"#000000\">Sepal.Length &lt;= 4.95</text>\n<text text-anchor=\"middle\" x=\"121\" y=\"-126.8\" font-family=\"Times,serif\" font-size=\"14.00\" fill=\"#000000\">entropy = 0.211</text>\n<text text-anchor=\"middle\" x=\"121\" y=\"-111.8\" font-family=\"Times,serif\" font-size=\"14.00\" fill=\"#000000\">samples = 30</text>\n<text text-anchor=\"middle\" x=\"121\" y=\"-96.8\" font-family=\"Times,serif\" font-size=\"14.00\" fill=\"#000000\">value = [0, 29, 1]</text>\n</g>\n<!-- 3&#45;&gt;4 -->\n<g id=\"edge4\" class=\"edge\">\n<title>3&#45;&gt;4</title>\n<path fill=\"none\" stroke=\"#000000\" d=\"M213.1411,-192.9465C200.7222,-183.519 187.1217,-173.1946 174.2739,-163.4415\"/>\n<polygon fill=\"#000000\" stroke=\"#000000\" points=\"176.041,-160.3887 165.9597,-157.13 171.8085,-165.9642 176.041,-160.3887\"/>\n</g>\n<!-- 7 -->\n<g id=\"node8\" class=\"node\">\n<title>7</title>\n<polygon fill=\"none\" stroke=\"#000000\" points=\"321,-149.5 211,-149.5 211,-96.5 321,-96.5 321,-149.5\"/>\n<text text-anchor=\"middle\" x=\"266\" y=\"-134.3\" font-family=\"Times,serif\" font-size=\"14.00\" fill=\"#000000\">entropy = 0.971</text>\n<text text-anchor=\"middle\" x=\"266\" y=\"-119.3\" font-family=\"Times,serif\" font-size=\"14.00\" fill=\"#000000\">samples = 5</text>\n<text text-anchor=\"middle\" x=\"266\" y=\"-104.3\" font-family=\"Times,serif\" font-size=\"14.00\" fill=\"#000000\">value = [0, 2, 3]</text>\n</g>\n<!-- 3&#45;&gt;7 -->\n<g id=\"edge7\" class=\"edge\">\n<title>3&#45;&gt;7</title>\n<path fill=\"none\" stroke=\"#000000\" d=\"M260.6195,-192.9465C261.4414,-182.2621 262.3519,-170.4254 263.1866,-159.5742\"/>\n<polygon fill=\"#000000\" stroke=\"#000000\" points=\"266.6809,-159.7812 263.9583,-149.5422 259.7015,-159.2442 266.6809,-159.7812\"/>\n</g>\n<!-- 5 -->\n<g id=\"node6\" class=\"node\">\n<title>5</title>\n<polygon fill=\"none\" stroke=\"#000000\" points=\"110,-53 0,-53 0,0 110,0 110,-53\"/>\n<text text-anchor=\"middle\" x=\"55\" y=\"-37.8\" font-family=\"Times,serif\" font-size=\"14.00\" fill=\"#000000\">entropy = 0.0</text>\n<text text-anchor=\"middle\" x=\"55\" y=\"-22.8\" font-family=\"Times,serif\" font-size=\"14.00\" fill=\"#000000\">samples = 1</text>\n<text text-anchor=\"middle\" x=\"55\" y=\"-7.8\" font-family=\"Times,serif\" font-size=\"14.00\" fill=\"#000000\">value = [0, 0, 1]</text>\n</g>\n<!-- 4&#45;&gt;5 -->\n<g id=\"edge5\" class=\"edge\">\n<title>4&#45;&gt;5</title>\n<path fill=\"none\" stroke=\"#000000\" d=\"M97.7309,-88.9777C91.656,-80.0954 85.0979,-70.5067 78.9865,-61.5711\"/>\n<polygon fill=\"#000000\" stroke=\"#000000\" points=\"81.8286,-59.5267 73.2943,-53.2485 76.0507,-63.4785 81.8286,-59.5267\"/>\n</g>\n<!-- 6 -->\n<g id=\"node7\" class=\"node\">\n<title>6</title>\n<polygon fill=\"none\" stroke=\"#000000\" points=\"245.5,-53 128.5,-53 128.5,0 245.5,0 245.5,-53\"/>\n<text text-anchor=\"middle\" x=\"187\" y=\"-37.8\" font-family=\"Times,serif\" font-size=\"14.00\" fill=\"#000000\">entropy = 0.0</text>\n<text text-anchor=\"middle\" x=\"187\" y=\"-22.8\" font-family=\"Times,serif\" font-size=\"14.00\" fill=\"#000000\">samples = 29</text>\n<text text-anchor=\"middle\" x=\"187\" y=\"-7.8\" font-family=\"Times,serif\" font-size=\"14.00\" fill=\"#000000\">value = [0, 29, 0]</text>\n</g>\n<!-- 4&#45;&gt;6 -->\n<g id=\"edge6\" class=\"edge\">\n<title>4&#45;&gt;6</title>\n<path fill=\"none\" stroke=\"#000000\" d=\"M144.2691,-88.9777C150.344,-80.0954 156.9021,-70.5067 163.0135,-61.5711\"/>\n<polygon fill=\"#000000\" stroke=\"#000000\" points=\"165.9493,-63.4785 168.7057,-53.2485 160.1714,-59.5267 165.9493,-63.4785\"/>\n</g>\n<!-- 9 -->\n<g id=\"node10\" class=\"node\">\n<title>9</title>\n<polygon fill=\"none\" stroke=\"#000000\" points=\"464,-149.5 354,-149.5 354,-96.5 464,-96.5 464,-149.5\"/>\n<text text-anchor=\"middle\" x=\"409\" y=\"-134.3\" font-family=\"Times,serif\" font-size=\"14.00\" fill=\"#000000\">entropy = 0.918</text>\n<text text-anchor=\"middle\" x=\"409\" y=\"-119.3\" font-family=\"Times,serif\" font-size=\"14.00\" fill=\"#000000\">samples = 3</text>\n<text text-anchor=\"middle\" x=\"409\" y=\"-104.3\" font-family=\"Times,serif\" font-size=\"14.00\" fill=\"#000000\">value = [0, 1, 2]</text>\n</g>\n<!-- 8&#45;&gt;9 -->\n<g id=\"edge9\" class=\"edge\">\n<title>8&#45;&gt;9</title>\n<path fill=\"none\" stroke=\"#000000\" d=\"M413.7079,-192.9465C412.9888,-182.2621 412.1921,-170.4254 411.4617,-159.5742\"/>\n<polygon fill=\"#000000\" stroke=\"#000000\" points=\"414.9502,-159.2845 410.7865,-149.5422 407.966,-159.7547 414.9502,-159.2845\"/>\n</g>\n<!-- 10 -->\n<g id=\"node11\" class=\"node\">\n<title>10</title>\n<polygon fill=\"none\" stroke=\"#000000\" points=\"599.5,-149.5 482.5,-149.5 482.5,-96.5 599.5,-96.5 599.5,-149.5\"/>\n<text text-anchor=\"middle\" x=\"541\" y=\"-134.3\" font-family=\"Times,serif\" font-size=\"14.00\" fill=\"#000000\">entropy = 0.0</text>\n<text text-anchor=\"middle\" x=\"541\" y=\"-119.3\" font-family=\"Times,serif\" font-size=\"14.00\" fill=\"#000000\">samples = 38</text>\n<text text-anchor=\"middle\" x=\"541\" y=\"-104.3\" font-family=\"Times,serif\" font-size=\"14.00\" fill=\"#000000\">value = [0, 0, 38]</text>\n</g>\n<!-- 8&#45;&gt;10 -->\n<g id=\"edge10\" class=\"edge\">\n<title>8&#45;&gt;10</title>\n<path fill=\"none\" stroke=\"#000000\" d=\"M456.9297,-192.9465C471.0955,-181.1606 486.9463,-167.9726 501.0338,-156.2519\"/>\n<polygon fill=\"#000000\" stroke=\"#000000\" points=\"503.6496,-158.6285 509.0984,-149.5422 499.1725,-153.2474 503.6496,-158.6285\"/>\n</g>\n</g>\n</svg>\n"
          },
          "metadata": {
            "tags": []
          },
          "execution_count": 50
        }
      ]
    },
    {
      "cell_type": "markdown",
      "metadata": {
        "id": "lbE8JhlfeAkx",
        "colab_type": "text"
      },
      "source": [
        "### Validación cruzada. \n",
        "---"
      ]
    },
    {
      "cell_type": "code",
      "metadata": {
        "id": "bx3DNH6UeL82",
        "colab_type": "code",
        "colab": {}
      },
      "source": [
        "X = data[predictors]\n",
        "Y = data[target]"
      ],
      "execution_count": 0,
      "outputs": []
    },
    {
      "cell_type": "code",
      "metadata": {
        "id": "q5RQd8inmxRX",
        "colab_type": "code",
        "colab": {
          "base_uri": "https://localhost:8080/",
          "height": 116
        },
        "outputId": "be134139-5aab-432d-c65e-62a6d8ba8b62"
      },
      "source": [
        "tree = DecisionTreeClassifier(criterion=\"entropy\", max_depth= 5,\n",
        "                              min_samples_split=20, random_state=99)\n",
        "tree.fit(X, Y)"
      ],
      "execution_count": 62,
      "outputs": [
        {
          "output_type": "execute_result",
          "data": {
            "text/plain": [
              "DecisionTreeClassifier(class_weight=None, criterion='entropy', max_depth=5,\n",
              "                       max_features=None, max_leaf_nodes=None,\n",
              "                       min_impurity_decrease=0.0, min_impurity_split=None,\n",
              "                       min_samples_leaf=1, min_samples_split=20,\n",
              "                       min_weight_fraction_leaf=0.0, presort=False,\n",
              "                       random_state=99, splitter='best')"
            ]
          },
          "metadata": {
            "tags": []
          },
          "execution_count": 62
        }
      ]
    },
    {
      "cell_type": "code",
      "metadata": {
        "id": "kdHjjPa_nV1p",
        "colab_type": "code",
        "colab": {}
      },
      "source": [
        "from sklearn.model_selection import KFold"
      ],
      "execution_count": 0,
      "outputs": []
    },
    {
      "cell_type": "code",
      "metadata": {
        "id": "8T9EjdTMzcEK",
        "colab_type": "code",
        "colab": {
          "base_uri": "https://localhost:8080/",
          "height": 33
        },
        "outputId": "e15ec4e6-f0c6-47ad-efdb-c53ef878f20b"
      },
      "source": [
        "cv = KFold(X.shape[0], shuffle=True, random_state=1 )"
      ],
      "execution_count": 68,
      "outputs": [
        {
          "output_type": "execute_result",
          "data": {
            "text/plain": [
              "sklearn.model_selection._split.KFold"
            ]
          },
          "metadata": {
            "tags": []
          },
          "execution_count": 68
        }
      ]
    },
    {
      "cell_type": "code",
      "metadata": {
        "id": "LZouXZmT4qdG",
        "colab_type": "code",
        "colab": {}
      },
      "source": [
        "from sklearn.model_selection import  cross_val_score"
      ],
      "execution_count": 0,
      "outputs": []
    },
    {
      "cell_type": "code",
      "metadata": {
        "id": "wcM9feoP5wVO",
        "colab_type": "code",
        "colab": {
          "base_uri": "https://localhost:8080/",
          "height": 166
        },
        "outputId": "173301d0-7235-456f-cd69-259ec9e60a3c"
      },
      "source": [
        "scores = cross_val_score(tree, X, Y, scoring=\"accuracy\", cv = cv, n_jobs=1)\n",
        "scores"
      ],
      "execution_count": 77,
      "outputs": [
        {
          "output_type": "execute_result",
          "data": {
            "text/plain": [
              "array([1., 1., 1., 1., 1., 1., 1., 1., 1., 1., 1., 1., 1., 1., 1., 1., 1.,\n",
              "       1., 1., 1., 1., 1., 0., 1., 1., 1., 1., 1., 1., 1., 1., 1., 1., 1.,\n",
              "       1., 1., 1., 1., 1., 1., 1., 1., 0., 1., 1., 1., 1., 1., 1., 1., 1.,\n",
              "       1., 1., 1., 1., 1., 0., 1., 1., 1., 1., 1., 1., 1., 1., 1., 1., 1.,\n",
              "       1., 1., 1., 1., 0., 1., 1., 1., 1., 1., 1., 1., 1., 1., 1., 1., 1.,\n",
              "       0., 1., 1., 1., 1., 1., 1., 1., 1., 1., 1., 1., 1., 1., 1., 1., 1.,\n",
              "       1., 1., 1., 1., 1., 1., 1., 1., 1., 1., 1., 1., 0., 1., 1., 1., 1.,\n",
              "       0., 1., 1., 1., 1., 1., 1., 1., 1., 1., 0., 1., 1., 1., 1., 1., 1.,\n",
              "       1., 1., 1., 1., 1., 1., 1., 1., 1., 1., 1., 1., 1., 1.])"
            ]
          },
          "metadata": {
            "tags": []
          },
          "execution_count": 77
        }
      ]
    },
    {
      "cell_type": "code",
      "metadata": {
        "id": "mIiOxrzt5fug",
        "colab_type": "code",
        "colab": {
          "base_uri": "https://localhost:8080/",
          "height": 33
        },
        "outputId": "4d0687d4-d665-4833-9f9c-44316e290a3e"
      },
      "source": [
        "score = np.mean(scores)\n",
        "score"
      ],
      "execution_count": 78,
      "outputs": [
        {
          "output_type": "execute_result",
          "data": {
            "text/plain": [
              "0.9466666666666667"
            ]
          },
          "metadata": {
            "tags": []
          },
          "execution_count": 78
        }
      ]
    },
    {
      "cell_type": "markdown",
      "metadata": {
        "id": "_GVmPXRJmsCj",
        "colab_type": "text"
      },
      "source": [
        "# Árboles de Regresión\n",
        "---"
      ]
    },
    {
      "cell_type": "code",
      "metadata": {
        "id": "BmDzxHXQ_3Jk",
        "colab_type": "code",
        "colab": {}
      },
      "source": [
        "# Impotando librerias\n",
        "import pandas as pd\n",
        "from sklearn.tree import DecisionTreeRegressor"
      ],
      "execution_count": 0,
      "outputs": []
    },
    {
      "cell_type": "markdown",
      "metadata": {
        "id": "ayyzZNTDA5y5",
        "colab_type": "text"
      },
      "source": [
        "**Leyendo los datos de las casas de Boston(1978), del repositorio de unalytics**\n",
        "\n"
      ]
    },
    {
      "cell_type": "code",
      "metadata": {
        "id": "5fyeyJMTbXy_",
        "colab_type": "code",
        "colab": {}
      },
      "source": [
        "data = pd.read_csv(\"https://raw.githubusercontent.com/unalyticsteam/databases/master/Boston.csv\")"
      ],
      "execution_count": 0,
      "outputs": []
    },
    {
      "cell_type": "markdown",
      "metadata": {
        "id": "DZ3gkHBSD-QO",
        "colab_type": "text"
      },
      "source": [
        "**crim:** indice de criminologia per-capita.(100 induviduos)\n",
        "\n",
        "**zn:** proporcion de zona de residencia por cada pie cudrado\n",
        "\n",
        "**indus:** Acceso a zona de industria.\n",
        "\n",
        "**chas:** cerca rio de boston (0, 1)\n",
        "\n",
        "**rm:** promedio de habitaciones. \n",
        "\n",
        "..."
      ]
    },
    {
      "cell_type": "markdown",
      "metadata": {
        "id": "EQXCvTDFDJ_Z",
        "colab_type": "text"
      },
      "source": [
        "### Rápido Análisis\n",
        "---"
      ]
    },
    {
      "cell_type": "code",
      "metadata": {
        "id": "4OpHpjMhcaZ_",
        "colab_type": "code",
        "outputId": "207d9fc3-96a9-4500-bc20-b3f314b51dda",
        "colab": {
          "base_uri": "https://localhost:8080/",
          "height": 142
        }
      },
      "source": [
        "# Observemos las 3 primeras filas\n",
        "data.head(3)"
      ],
      "execution_count": 0,
      "outputs": [
        {
          "output_type": "execute_result",
          "data": {
            "text/html": [
              "<div>\n",
              "<style scoped>\n",
              "    .dataframe tbody tr th:only-of-type {\n",
              "        vertical-align: middle;\n",
              "    }\n",
              "\n",
              "    .dataframe tbody tr th {\n",
              "        vertical-align: top;\n",
              "    }\n",
              "\n",
              "    .dataframe thead th {\n",
              "        text-align: right;\n",
              "    }\n",
              "</style>\n",
              "<table border=\"1\" class=\"dataframe\">\n",
              "  <thead>\n",
              "    <tr style=\"text-align: right;\">\n",
              "      <th></th>\n",
              "      <th>crim</th>\n",
              "      <th>zn</th>\n",
              "      <th>indus</th>\n",
              "      <th>chas</th>\n",
              "      <th>nox</th>\n",
              "      <th>rm</th>\n",
              "      <th>age</th>\n",
              "      <th>dis</th>\n",
              "      <th>rad</th>\n",
              "      <th>tax</th>\n",
              "      <th>ptratio</th>\n",
              "      <th>black</th>\n",
              "      <th>lstat</th>\n",
              "      <th>medv</th>\n",
              "    </tr>\n",
              "  </thead>\n",
              "  <tbody>\n",
              "    <tr>\n",
              "      <th>0</th>\n",
              "      <td>0.00632</td>\n",
              "      <td>18.0</td>\n",
              "      <td>2.31</td>\n",
              "      <td>0</td>\n",
              "      <td>0.538</td>\n",
              "      <td>6.575</td>\n",
              "      <td>65.2</td>\n",
              "      <td>4.0900</td>\n",
              "      <td>1</td>\n",
              "      <td>296</td>\n",
              "      <td>15.3</td>\n",
              "      <td>396.90</td>\n",
              "      <td>4.98</td>\n",
              "      <td>24.0</td>\n",
              "    </tr>\n",
              "    <tr>\n",
              "      <th>1</th>\n",
              "      <td>0.02731</td>\n",
              "      <td>0.0</td>\n",
              "      <td>7.07</td>\n",
              "      <td>0</td>\n",
              "      <td>0.469</td>\n",
              "      <td>6.421</td>\n",
              "      <td>78.9</td>\n",
              "      <td>4.9671</td>\n",
              "      <td>2</td>\n",
              "      <td>242</td>\n",
              "      <td>17.8</td>\n",
              "      <td>396.90</td>\n",
              "      <td>9.14</td>\n",
              "      <td>21.6</td>\n",
              "    </tr>\n",
              "    <tr>\n",
              "      <th>2</th>\n",
              "      <td>0.02729</td>\n",
              "      <td>0.0</td>\n",
              "      <td>7.07</td>\n",
              "      <td>0</td>\n",
              "      <td>0.469</td>\n",
              "      <td>7.185</td>\n",
              "      <td>61.1</td>\n",
              "      <td>4.9671</td>\n",
              "      <td>2</td>\n",
              "      <td>242</td>\n",
              "      <td>17.8</td>\n",
              "      <td>392.83</td>\n",
              "      <td>4.03</td>\n",
              "      <td>34.7</td>\n",
              "    </tr>\n",
              "  </tbody>\n",
              "</table>\n",
              "</div>"
            ],
            "text/plain": [
              "      crim    zn  indus  chas    nox  ...  tax  ptratio   black  lstat  medv\n",
              "0  0.00632  18.0   2.31     0  0.538  ...  296     15.3  396.90   4.98  24.0\n",
              "1  0.02731   0.0   7.07     0  0.469  ...  242     17.8  396.90   9.14  21.6\n",
              "2  0.02729   0.0   7.07     0  0.469  ...  242     17.8  392.83   4.03  34.7\n",
              "\n",
              "[3 rows x 14 columns]"
            ]
          },
          "metadata": {
            "tags": []
          },
          "execution_count": 31
        }
      ]
    },
    {
      "cell_type": "markdown",
      "metadata": {
        "id": "_XgyRVEPBH14",
        "colab_type": "text"
      },
      "source": [
        "observemos las variables, tipo de dato, memoria."
      ]
    },
    {
      "cell_type": "code",
      "metadata": {
        "id": "b_E5Gih7dCL9",
        "colab_type": "code",
        "outputId": "42dcf904-782c-4967-ce28-2d77725a27a2",
        "colab": {
          "base_uri": "https://localhost:8080/",
          "height": 34
        }
      },
      "source": [
        "# dimensión de la base de datos.\n",
        "data.shape"
      ],
      "execution_count": 0,
      "outputs": [
        {
          "output_type": "execute_result",
          "data": {
            "text/plain": [
              "(506, 14)"
            ]
          },
          "metadata": {
            "tags": []
          },
          "execution_count": 34
        }
      ]
    },
    {
      "cell_type": "code",
      "metadata": {
        "id": "SksvbbcIce-v",
        "colab_type": "code",
        "outputId": "7d3ed2db-65b0-4da1-9422-3961c653edc5",
        "colab": {
          "base_uri": "https://localhost:8080/",
          "height": 340
        }
      },
      "source": [
        "# informacion de la base de datos.\n",
        "data.info()"
      ],
      "execution_count": 0,
      "outputs": [
        {
          "output_type": "stream",
          "text": [
            "<class 'pandas.core.frame.DataFrame'>\n",
            "RangeIndex: 506 entries, 0 to 505\n",
            "Data columns (total 14 columns):\n",
            "crim       506 non-null float64\n",
            "zn         506 non-null float64\n",
            "indus      506 non-null float64\n",
            "chas       506 non-null int64\n",
            "nox        506 non-null float64\n",
            "rm         506 non-null float64\n",
            "age        506 non-null float64\n",
            "dis        506 non-null float64\n",
            "rad        506 non-null int64\n",
            "tax        506 non-null int64\n",
            "ptratio    506 non-null float64\n",
            "black      506 non-null float64\n",
            "lstat      506 non-null float64\n",
            "medv       506 non-null float64\n",
            "dtypes: float64(11), int64(3)\n",
            "memory usage: 55.4 KB\n"
          ],
          "name": "stdout"
        }
      ]
    },
    {
      "cell_type": "markdown",
      "metadata": {
        "id": "LVgU7oMQDBn-",
        "colab_type": "text"
      },
      "source": [
        "### Pre-Procesando base de datos.\n",
        "---"
      ]
    },
    {
      "cell_type": "code",
      "metadata": {
        "id": "ELA32sdnlnwI",
        "colab_type": "code",
        "outputId": "8db4ade3-9d53-4b7e-cf63-45b289aa9a42",
        "colab": {
          "base_uri": "https://localhost:8080/",
          "height": 255
        }
      },
      "source": [
        "colnames = data.columns.values.tolist()\n",
        "colnames"
      ],
      "execution_count": 0,
      "outputs": [
        {
          "output_type": "execute_result",
          "data": {
            "text/plain": [
              "['crim',\n",
              " 'zn',\n",
              " 'indus',\n",
              " 'chas',\n",
              " 'nox',\n",
              " 'rm',\n",
              " 'age',\n",
              " 'dis',\n",
              " 'rad',\n",
              " 'tax',\n",
              " 'ptratio',\n",
              " 'black',\n",
              " 'lstat',\n",
              " 'medv']"
            ]
          },
          "metadata": {
            "tags": []
          },
          "execution_count": 45
        }
      ]
    },
    {
      "cell_type": "code",
      "metadata": {
        "id": "6WVAiHPDdzan",
        "colab_type": "code",
        "colab": {}
      },
      "source": [
        "# preprocesado \n",
        "predictors = colnames[0:13]\n",
        "targets = colnames[13]\n",
        "x = data[predictors]\n",
        "y = data[targets]"
      ],
      "execution_count": 0,
      "outputs": []
    },
    {
      "cell_type": "code",
      "metadata": {
        "id": "H3sF2pHNe8pH",
        "colab_type": "code",
        "colab": {}
      },
      "source": [
        "regtree = DecisionTreeRegressor(min_samples_split=30, min_samples_leaf=10, random_state=0)"
      ],
      "execution_count": 0,
      "outputs": []
    },
    {
      "cell_type": "code",
      "metadata": {
        "id": "vVWAb1NOgidO",
        "colab_type": "code",
        "outputId": "02510163-e1d7-4780-b9fc-63330216a0da",
        "colab": {
          "base_uri": "https://localhost:8080/",
          "height": 102
        }
      },
      "source": [
        "regtree.fit(x,y) #predictoras, prediccion"
      ],
      "execution_count": 0,
      "outputs": [
        {
          "output_type": "execute_result",
          "data": {
            "text/plain": [
              "DecisionTreeRegressor(criterion='mse', max_depth=None, max_features=None,\n",
              "                      max_leaf_nodes=None, min_impurity_decrease=0.0,\n",
              "                      min_impurity_split=None, min_samples_leaf=10,\n",
              "                      min_samples_split=30, min_weight_fraction_leaf=0.0,\n",
              "                      presort=False, random_state=0, splitter='best')"
            ]
          },
          "metadata": {
            "tags": []
          },
          "execution_count": 24
        }
      ]
    },
    {
      "cell_type": "code",
      "metadata": {
        "id": "e3k3GAoKgwGg",
        "colab_type": "code",
        "colab": {}
      },
      "source": [
        "preds = regtree.predict(data[predictors])"
      ],
      "execution_count": 0,
      "outputs": []
    },
    {
      "cell_type": "code",
      "metadata": {
        "id": "lV3mzLCLhKc9",
        "colab_type": "code",
        "colab": {}
      },
      "source": [
        "data[\"preds\"] = preds"
      ],
      "execution_count": 0,
      "outputs": []
    },
    {
      "cell_type": "code",
      "metadata": {
        "id": "hciasVQLhQj4",
        "colab_type": "code",
        "outputId": "81b6360c-768d-4157-fb15-5a5a3070671b",
        "colab": {
          "base_uri": "https://localhost:8080/",
          "height": 204
        }
      },
      "source": [
        "data[[\"preds\", \"medv\"]].head()"
      ],
      "execution_count": 0,
      "outputs": [
        {
          "output_type": "execute_result",
          "data": {
            "text/html": [
              "<div>\n",
              "<style scoped>\n",
              "    .dataframe tbody tr th:only-of-type {\n",
              "        vertical-align: middle;\n",
              "    }\n",
              "\n",
              "    .dataframe tbody tr th {\n",
              "        vertical-align: top;\n",
              "    }\n",
              "\n",
              "    .dataframe thead th {\n",
              "        text-align: right;\n",
              "    }\n",
              "</style>\n",
              "<table border=\"1\" class=\"dataframe\">\n",
              "  <thead>\n",
              "    <tr style=\"text-align: right;\">\n",
              "      <th></th>\n",
              "      <th>preds</th>\n",
              "      <th>medv</th>\n",
              "    </tr>\n",
              "  </thead>\n",
              "  <tbody>\n",
              "    <tr>\n",
              "      <th>0</th>\n",
              "      <td>22.840000</td>\n",
              "      <td>24.0</td>\n",
              "    </tr>\n",
              "    <tr>\n",
              "      <th>1</th>\n",
              "      <td>22.840000</td>\n",
              "      <td>21.6</td>\n",
              "    </tr>\n",
              "    <tr>\n",
              "      <th>2</th>\n",
              "      <td>35.247826</td>\n",
              "      <td>34.7</td>\n",
              "    </tr>\n",
              "    <tr>\n",
              "      <th>3</th>\n",
              "      <td>35.247826</td>\n",
              "      <td>33.4</td>\n",
              "    </tr>\n",
              "    <tr>\n",
              "      <th>4</th>\n",
              "      <td>35.247826</td>\n",
              "      <td>36.2</td>\n",
              "    </tr>\n",
              "  </tbody>\n",
              "</table>\n",
              "</div>"
            ],
            "text/plain": [
              "       preds  medv\n",
              "0  22.840000  24.0\n",
              "1  22.840000  21.6\n",
              "2  35.247826  34.7\n",
              "3  35.247826  33.4\n",
              "4  35.247826  36.2"
            ]
          },
          "metadata": {
            "tags": []
          },
          "execution_count": 30
        }
      ]
    },
    {
      "cell_type": "markdown",
      "metadata": {
        "id": "tphTY7kqiBeV",
        "colab_type": "text"
      },
      "source": [
        "### Visualizacion"
      ]
    },
    {
      "cell_type": "code",
      "metadata": {
        "id": "Y2OoAkuJhhDc",
        "colab_type": "code",
        "colab": {}
      },
      "source": [
        "from sklearn.tree import export_graphviz"
      ],
      "execution_count": 0,
      "outputs": []
    },
    {
      "cell_type": "code",
      "metadata": {
        "id": "F1D6w3LQiAm1",
        "colab_type": "code",
        "outputId": "1e8fd4a3-422d-462b-b762-98942dfdbf80",
        "colab": {
          "base_uri": "https://localhost:8080/",
          "height": 1000
        }
      },
      "source": [
        "from sklearn.tree import export_graphviz\n",
        "with open(\"boston_rtree.dot\", \"w\") as dotfile:\n",
        "    export_graphviz(regtree, out_file=dotfile, feature_names=predictors)\n",
        "    dotfile.close()\n",
        "    \n",
        "import os\n",
        "from graphviz import Source\n",
        "file = open(\"boston_rtree.dot\", \"r\")\n",
        "text = file.read()\n",
        "Source(text)\n"
      ],
      "execution_count": 0,
      "outputs": [
        {
          "output_type": "execute_result",
          "data": {
            "text/plain": [
              "<graphviz.files.Source at 0x7faf629de908>"
            ],
            "image/svg+xml": "<?xml version=\"1.0\" encoding=\"UTF-8\" standalone=\"no\"?>\n<!DOCTYPE svg PUBLIC \"-//W3C//DTD SVG 1.1//EN\"\n \"http://www.w3.org/Graphics/SVG/1.1/DTD/svg11.dtd\">\n<!-- Generated by graphviz version 2.40.1 (20161225.0304)\n -->\n<!-- Title: Tree Pages: 1 -->\n<svg width=\"1571pt\" height=\"1101pt\"\n viewBox=\"0.00 0.00 1571.00 1101.00\" xmlns=\"http://www.w3.org/2000/svg\" xmlns:xlink=\"http://www.w3.org/1999/xlink\">\n<g id=\"graph0\" class=\"graph\" transform=\"scale(1 1) rotate(0) translate(4 1097)\">\n<title>Tree</title>\n<polygon fill=\"#ffffff\" stroke=\"transparent\" points=\"-4,4 -4,-1097 1567,-1097 1567,4 -4,4\"/>\n<!-- 0 -->\n<g id=\"node1\" class=\"node\">\n<title>0</title>\n<polygon fill=\"none\" stroke=\"#000000\" points=\"1136,-1093 1032,-1093 1032,-1025 1136,-1025 1136,-1093\"/>\n<text text-anchor=\"middle\" x=\"1084\" y=\"-1077.8\" font-family=\"Times,serif\" font-size=\"14.00\" fill=\"#000000\">rm &lt;= 6.941</text>\n<text text-anchor=\"middle\" x=\"1084\" y=\"-1062.8\" font-family=\"Times,serif\" font-size=\"14.00\" fill=\"#000000\">mse = 84.42</text>\n<text text-anchor=\"middle\" x=\"1084\" y=\"-1047.8\" font-family=\"Times,serif\" font-size=\"14.00\" fill=\"#000000\">samples = 506</text>\n<text text-anchor=\"middle\" x=\"1084\" y=\"-1032.8\" font-family=\"Times,serif\" font-size=\"14.00\" fill=\"#000000\">value = 22.533</text>\n</g>\n<!-- 1 -->\n<g id=\"node2\" class=\"node\">\n<title>1</title>\n<polygon fill=\"none\" stroke=\"#000000\" points=\"1014,-989 910,-989 910,-921 1014,-921 1014,-989\"/>\n<text text-anchor=\"middle\" x=\"962\" y=\"-973.8\" font-family=\"Times,serif\" font-size=\"14.00\" fill=\"#000000\">lstat &lt;= 14.4</text>\n<text text-anchor=\"middle\" x=\"962\" y=\"-958.8\" font-family=\"Times,serif\" font-size=\"14.00\" fill=\"#000000\">mse = 40.273</text>\n<text text-anchor=\"middle\" x=\"962\" y=\"-943.8\" font-family=\"Times,serif\" font-size=\"14.00\" fill=\"#000000\">samples = 430</text>\n<text text-anchor=\"middle\" x=\"962\" y=\"-928.8\" font-family=\"Times,serif\" font-size=\"14.00\" fill=\"#000000\">value = 19.934</text>\n</g>\n<!-- 0&#45;&gt;1 -->\n<g id=\"edge1\" class=\"edge\">\n<title>0&#45;&gt;1</title>\n<path fill=\"none\" stroke=\"#000000\" d=\"M1044.0526,-1024.9465C1033.0988,-1015.6088 1021.1127,-1005.3911 1009.768,-995.7203\"/>\n<polygon fill=\"#000000\" stroke=\"#000000\" points=\"1011.9179,-992.9538 1002.0371,-989.13 1007.3767,-998.2809 1011.9179,-992.9538\"/>\n<text text-anchor=\"middle\" x=\"1004.022\" y=\"-1010.3511\" font-family=\"Times,serif\" font-size=\"14.00\" fill=\"#000000\">True</text>\n</g>\n<!-- 48 -->\n<g id=\"node49\" class=\"node\">\n<title>48</title>\n<polygon fill=\"none\" stroke=\"#000000\" points=\"1258,-989 1154,-989 1154,-921 1258,-921 1258,-989\"/>\n<text text-anchor=\"middle\" x=\"1206\" y=\"-973.8\" font-family=\"Times,serif\" font-size=\"14.00\" fill=\"#000000\">rm &lt;= 7.437</text>\n<text text-anchor=\"middle\" x=\"1206\" y=\"-958.8\" font-family=\"Times,serif\" font-size=\"14.00\" fill=\"#000000\">mse = 79.729</text>\n<text text-anchor=\"middle\" x=\"1206\" y=\"-943.8\" font-family=\"Times,serif\" font-size=\"14.00\" fill=\"#000000\">samples = 76</text>\n<text text-anchor=\"middle\" x=\"1206\" y=\"-928.8\" font-family=\"Times,serif\" font-size=\"14.00\" fill=\"#000000\">value = 37.238</text>\n</g>\n<!-- 0&#45;&gt;48 -->\n<g id=\"edge48\" class=\"edge\">\n<title>0&#45;&gt;48</title>\n<path fill=\"none\" stroke=\"#000000\" d=\"M1123.9474,-1024.9465C1134.9012,-1015.6088 1146.8873,-1005.3911 1158.232,-995.7203\"/>\n<polygon fill=\"#000000\" stroke=\"#000000\" points=\"1160.6233,-998.2809 1165.9629,-989.13 1156.0821,-992.9538 1160.6233,-998.2809\"/>\n<text text-anchor=\"middle\" x=\"1163.978\" y=\"-1010.3511\" font-family=\"Times,serif\" font-size=\"14.00\" fill=\"#000000\">False</text>\n</g>\n<!-- 2 -->\n<g id=\"node3\" class=\"node\">\n<title>2</title>\n<polygon fill=\"none\" stroke=\"#000000\" points=\"645,-885 545,-885 545,-817 645,-817 645,-885\"/>\n<text text-anchor=\"middle\" x=\"595\" y=\"-869.8\" font-family=\"Times,serif\" font-size=\"14.00\" fill=\"#000000\">lstat &lt;= 4.91</text>\n<text text-anchor=\"middle\" x=\"595\" y=\"-854.8\" font-family=\"Times,serif\" font-size=\"14.00\" fill=\"#000000\">mse = 26.009</text>\n<text text-anchor=\"middle\" x=\"595\" y=\"-839.8\" font-family=\"Times,serif\" font-size=\"14.00\" fill=\"#000000\">samples = 255</text>\n<text text-anchor=\"middle\" x=\"595\" y=\"-824.8\" font-family=\"Times,serif\" font-size=\"14.00\" fill=\"#000000\">value = 23.35</text>\n</g>\n<!-- 1&#45;&gt;2 -->\n<g id=\"edge2\" class=\"edge\">\n<title>1&#45;&gt;2</title>\n<path fill=\"none\" stroke=\"#000000\" d=\"M909.8076,-940.2098C842.5218,-921.1424 725.7721,-888.058 654.9272,-867.9821\"/>\n<polygon fill=\"#000000\" stroke=\"#000000\" points=\"655.8207,-864.5975 645.2453,-865.2384 653.9122,-871.3324 655.8207,-864.5975\"/>\n</g>\n<!-- 29 -->\n<g id=\"node30\" class=\"node\">\n<title>29</title>\n<polygon fill=\"none\" stroke=\"#000000\" points=\"1014,-885 910,-885 910,-817 1014,-817 1014,-885\"/>\n<text text-anchor=\"middle\" x=\"962\" y=\"-869.8\" font-family=\"Times,serif\" font-size=\"14.00\" fill=\"#000000\">crim &lt;= 6.992</text>\n<text text-anchor=\"middle\" x=\"962\" y=\"-854.8\" font-family=\"Times,serif\" font-size=\"14.00\" fill=\"#000000\">mse = 19.276</text>\n<text text-anchor=\"middle\" x=\"962\" y=\"-839.8\" font-family=\"Times,serif\" font-size=\"14.00\" fill=\"#000000\">samples = 175</text>\n<text text-anchor=\"middle\" x=\"962\" y=\"-824.8\" font-family=\"Times,serif\" font-size=\"14.00\" fill=\"#000000\">value = 14.956</text>\n</g>\n<!-- 1&#45;&gt;29 -->\n<g id=\"edge29\" class=\"edge\">\n<title>1&#45;&gt;29</title>\n<path fill=\"none\" stroke=\"#000000\" d=\"M962,-920.9465C962,-912.776 962,-903.9318 962,-895.3697\"/>\n<polygon fill=\"#000000\" stroke=\"#000000\" points=\"965.5001,-895.13 962,-885.13 958.5001,-895.13 965.5001,-895.13\"/>\n</g>\n<!-- 3 -->\n<g id=\"node4\" class=\"node\">\n<title>3</title>\n<polygon fill=\"none\" stroke=\"#000000\" points=\"525,-773.5 421,-773.5 421,-720.5 525,-720.5 525,-773.5\"/>\n<text text-anchor=\"middle\" x=\"473\" y=\"-758.3\" font-family=\"Times,serif\" font-size=\"14.00\" fill=\"#000000\">mse = 47.187</text>\n<text text-anchor=\"middle\" x=\"473\" y=\"-743.3\" font-family=\"Times,serif\" font-size=\"14.00\" fill=\"#000000\">samples = 20</text>\n<text text-anchor=\"middle\" x=\"473\" y=\"-728.3\" font-family=\"Times,serif\" font-size=\"14.00\" fill=\"#000000\">value = 31.565</text>\n</g>\n<!-- 2&#45;&gt;3 -->\n<g id=\"edge3\" class=\"edge\">\n<title>2&#45;&gt;3</title>\n<path fill=\"none\" stroke=\"#000000\" d=\"M555.0526,-816.9465C541.2268,-805.1606 525.7564,-791.9726 512.0071,-780.2519\"/>\n<polygon fill=\"#000000\" stroke=\"#000000\" points=\"514.0168,-777.366 504.136,-773.5422 509.4756,-782.6931 514.0168,-777.366\"/>\n</g>\n<!-- 4 -->\n<g id=\"node5\" class=\"node\">\n<title>4</title>\n<polygon fill=\"none\" stroke=\"#000000\" points=\"647,-781 543,-781 543,-713 647,-713 647,-781\"/>\n<text text-anchor=\"middle\" x=\"595\" y=\"-765.8\" font-family=\"Times,serif\" font-size=\"14.00\" fill=\"#000000\">lstat &lt;= 9.715</text>\n<text text-anchor=\"middle\" x=\"595\" y=\"-750.8\" font-family=\"Times,serif\" font-size=\"14.00\" fill=\"#000000\">mse = 17.974</text>\n<text text-anchor=\"middle\" x=\"595\" y=\"-735.8\" font-family=\"Times,serif\" font-size=\"14.00\" fill=\"#000000\">samples = 235</text>\n<text text-anchor=\"middle\" x=\"595\" y=\"-720.8\" font-family=\"Times,serif\" font-size=\"14.00\" fill=\"#000000\">value = 22.651</text>\n</g>\n<!-- 2&#45;&gt;4 -->\n<g id=\"edge4\" class=\"edge\">\n<title>2&#45;&gt;4</title>\n<path fill=\"none\" stroke=\"#000000\" d=\"M595,-816.9465C595,-808.776 595,-799.9318 595,-791.3697\"/>\n<polygon fill=\"#000000\" stroke=\"#000000\" points=\"598.5001,-791.13 595,-781.13 591.5001,-791.13 598.5001,-791.13\"/>\n</g>\n<!-- 5 -->\n<g id=\"node6\" class=\"node\">\n<title>5</title>\n<polygon fill=\"none\" stroke=\"#000000\" points=\"462,-677 358,-677 358,-609 462,-609 462,-677\"/>\n<text text-anchor=\"middle\" x=\"410\" y=\"-661.8\" font-family=\"Times,serif\" font-size=\"14.00\" fill=\"#000000\">age &lt;= 87.6</text>\n<text text-anchor=\"middle\" x=\"410\" y=\"-646.8\" font-family=\"Times,serif\" font-size=\"14.00\" fill=\"#000000\">mse = 22.287</text>\n<text text-anchor=\"middle\" x=\"410\" y=\"-631.8\" font-family=\"Times,serif\" font-size=\"14.00\" fill=\"#000000\">samples = 122</text>\n<text text-anchor=\"middle\" x=\"410\" y=\"-616.8\" font-family=\"Times,serif\" font-size=\"14.00\" fill=\"#000000\">value = 24.393</text>\n</g>\n<!-- 4&#45;&gt;5 -->\n<g id=\"edge5\" class=\"edge\">\n<title>4&#45;&gt;5</title>\n<path fill=\"none\" stroke=\"#000000\" d=\"M542.9749,-717.7534C520.6103,-705.1809 494.3135,-690.3979 471.0351,-677.3116\"/>\n<polygon fill=\"#000000\" stroke=\"#000000\" points=\"472.7078,-674.2368 462.2756,-672.3874 469.2775,-680.3388 472.7078,-674.2368\"/>\n</g>\n<!-- 18 -->\n<g id=\"node19\" class=\"node\">\n<title>18</title>\n<polygon fill=\"none\" stroke=\"#000000\" points=\"650.5,-677 539.5,-677 539.5,-609 650.5,-609 650.5,-677\"/>\n<text text-anchor=\"middle\" x=\"595\" y=\"-661.8\" font-family=\"Times,serif\" font-size=\"14.00\" fill=\"#000000\">ptratio &lt;= 17.85</text>\n<text text-anchor=\"middle\" x=\"595\" y=\"-646.8\" font-family=\"Times,serif\" font-size=\"14.00\" fill=\"#000000\">mse = 6.503</text>\n<text text-anchor=\"middle\" x=\"595\" y=\"-631.8\" font-family=\"Times,serif\" font-size=\"14.00\" fill=\"#000000\">samples = 113</text>\n<text text-anchor=\"middle\" x=\"595\" y=\"-616.8\" font-family=\"Times,serif\" font-size=\"14.00\" fill=\"#000000\">value = 20.77</text>\n</g>\n<!-- 4&#45;&gt;18 -->\n<g id=\"edge18\" class=\"edge\">\n<title>4&#45;&gt;18</title>\n<path fill=\"none\" stroke=\"#000000\" d=\"M595,-712.9465C595,-704.776 595,-695.9318 595,-687.3697\"/>\n<polygon fill=\"#000000\" stroke=\"#000000\" points=\"598.5001,-687.13 595,-677.13 591.5001,-687.13 598.5001,-687.13\"/>\n</g>\n<!-- 6 -->\n<g id=\"node7\" class=\"node\">\n<title>6</title>\n<polygon fill=\"none\" stroke=\"#000000\" points=\"343,-573 239,-573 239,-505 343,-505 343,-573\"/>\n<text text-anchor=\"middle\" x=\"291\" y=\"-557.8\" font-family=\"Times,serif\" font-size=\"14.00\" fill=\"#000000\">rm &lt;= 6.125</text>\n<text text-anchor=\"middle\" x=\"291\" y=\"-542.8\" font-family=\"Times,serif\" font-size=\"14.00\" fill=\"#000000\">mse = 11.111</text>\n<text text-anchor=\"middle\" x=\"291\" y=\"-527.8\" font-family=\"Times,serif\" font-size=\"14.00\" fill=\"#000000\">samples = 112</text>\n<text text-anchor=\"middle\" x=\"291\" y=\"-512.8\" font-family=\"Times,serif\" font-size=\"14.00\" fill=\"#000000\">value = 23.787</text>\n</g>\n<!-- 5&#45;&gt;6 -->\n<g id=\"edge6\" class=\"edge\">\n<title>5&#45;&gt;6</title>\n<path fill=\"none\" stroke=\"#000000\" d=\"M371.0349,-608.9465C360.3505,-599.6088 348.6591,-589.3911 337.5934,-579.7203\"/>\n<polygon fill=\"#000000\" stroke=\"#000000\" points=\"339.8855,-577.0752 330.0526,-573.13 335.2791,-582.346 339.8855,-577.0752\"/>\n</g>\n<!-- 17 -->\n<g id=\"node18\" class=\"node\">\n<title>17</title>\n<polygon fill=\"none\" stroke=\"#000000\" points=\"458.5,-565.5 361.5,-565.5 361.5,-512.5 458.5,-512.5 458.5,-565.5\"/>\n<text text-anchor=\"middle\" x=\"410\" y=\"-550.3\" font-family=\"Times,serif\" font-size=\"14.00\" fill=\"#000000\">mse = 97.42</text>\n<text text-anchor=\"middle\" x=\"410\" y=\"-535.3\" font-family=\"Times,serif\" font-size=\"14.00\" fill=\"#000000\">samples = 10</text>\n<text text-anchor=\"middle\" x=\"410\" y=\"-520.3\" font-family=\"Times,serif\" font-size=\"14.00\" fill=\"#000000\">value = 31.17</text>\n</g>\n<!-- 5&#45;&gt;17 -->\n<g id=\"edge17\" class=\"edge\">\n<title>5&#45;&gt;17</title>\n<path fill=\"none\" stroke=\"#000000\" d=\"M410,-608.9465C410,-598.2621 410,-586.4254 410,-575.5742\"/>\n<polygon fill=\"#000000\" stroke=\"#000000\" points=\"413.5001,-575.5421 410,-565.5422 406.5001,-575.5422 413.5001,-575.5421\"/>\n</g>\n<!-- 7 -->\n<g id=\"node8\" class=\"node\">\n<title>7</title>\n<polygon fill=\"none\" stroke=\"#000000\" points=\"221,-461.5 117,-461.5 117,-408.5 221,-408.5 221,-461.5\"/>\n<text text-anchor=\"middle\" x=\"169\" y=\"-446.3\" font-family=\"Times,serif\" font-size=\"14.00\" fill=\"#000000\">mse = 4.865</text>\n<text text-anchor=\"middle\" x=\"169\" y=\"-431.3\" font-family=\"Times,serif\" font-size=\"14.00\" fill=\"#000000\">samples = 29</text>\n<text text-anchor=\"middle\" x=\"169\" y=\"-416.3\" font-family=\"Times,serif\" font-size=\"14.00\" fill=\"#000000\">value = 20.624</text>\n</g>\n<!-- 6&#45;&gt;7 -->\n<g id=\"edge7\" class=\"edge\">\n<title>6&#45;&gt;7</title>\n<path fill=\"none\" stroke=\"#000000\" d=\"M251.0526,-504.9465C237.2268,-493.1606 221.7564,-479.9726 208.0071,-468.2519\"/>\n<polygon fill=\"#000000\" stroke=\"#000000\" points=\"210.0168,-465.366 200.136,-461.5422 205.4756,-470.6931 210.0168,-465.366\"/>\n</g>\n<!-- 8 -->\n<g id=\"node9\" class=\"node\">\n<title>8</title>\n<polygon fill=\"none\" stroke=\"#000000\" points=\"343,-469 239,-469 239,-401 343,-401 343,-469\"/>\n<text text-anchor=\"middle\" x=\"291\" y=\"-453.8\" font-family=\"Times,serif\" font-size=\"14.00\" fill=\"#000000\">rm &lt;= 6.611</text>\n<text text-anchor=\"middle\" x=\"291\" y=\"-438.8\" font-family=\"Times,serif\" font-size=\"14.00\" fill=\"#000000\">mse = 8.576</text>\n<text text-anchor=\"middle\" x=\"291\" y=\"-423.8\" font-family=\"Times,serif\" font-size=\"14.00\" fill=\"#000000\">samples = 83</text>\n<text text-anchor=\"middle\" x=\"291\" y=\"-408.8\" font-family=\"Times,serif\" font-size=\"14.00\" fill=\"#000000\">value = 24.893</text>\n</g>\n<!-- 6&#45;&gt;8 -->\n<g id=\"edge8\" class=\"edge\">\n<title>6&#45;&gt;8</title>\n<path fill=\"none\" stroke=\"#000000\" d=\"M291,-504.9465C291,-496.776 291,-487.9318 291,-479.3697\"/>\n<polygon fill=\"#000000\" stroke=\"#000000\" points=\"294.5001,-479.13 291,-469.13 287.5001,-479.13 294.5001,-479.13\"/>\n</g>\n<!-- 9 -->\n<g id=\"node10\" class=\"node\">\n<title>9</title>\n<polygon fill=\"none\" stroke=\"#000000\" points=\"279.5,-365 182.5,-365 182.5,-297 279.5,-297 279.5,-365\"/>\n<text text-anchor=\"middle\" x=\"231\" y=\"-349.8\" font-family=\"Times,serif\" font-size=\"14.00\" fill=\"#000000\">tax &lt;= 332.5</text>\n<text text-anchor=\"middle\" x=\"231\" y=\"-334.8\" font-family=\"Times,serif\" font-size=\"14.00\" fill=\"#000000\">mse = 6.848</text>\n<text text-anchor=\"middle\" x=\"231\" y=\"-319.8\" font-family=\"Times,serif\" font-size=\"14.00\" fill=\"#000000\">samples = 60</text>\n<text text-anchor=\"middle\" x=\"231\" y=\"-304.8\" font-family=\"Times,serif\" font-size=\"14.00\" fill=\"#000000\">value = 23.99</text>\n</g>\n<!-- 8&#45;&gt;9 -->\n<g id=\"edge9\" class=\"edge\">\n<title>8&#45;&gt;9</title>\n<path fill=\"none\" stroke=\"#000000\" d=\"M271.3538,-400.9465C266.381,-392.3271 260.9757,-382.9579 255.7852,-373.9611\"/>\n<polygon fill=\"#000000\" stroke=\"#000000\" points=\"258.7193,-372.0428 250.6904,-365.13 252.656,-375.5409 258.7193,-372.0428\"/>\n</g>\n<!-- 16 -->\n<g id=\"node17\" class=\"node\">\n<title>16</title>\n<polygon fill=\"none\" stroke=\"#000000\" points=\"402,-357.5 298,-357.5 298,-304.5 402,-304.5 402,-357.5\"/>\n<text text-anchor=\"middle\" x=\"350\" y=\"-342.3\" font-family=\"Times,serif\" font-size=\"14.00\" fill=\"#000000\">mse = 5.413</text>\n<text text-anchor=\"middle\" x=\"350\" y=\"-327.3\" font-family=\"Times,serif\" font-size=\"14.00\" fill=\"#000000\">samples = 23</text>\n<text text-anchor=\"middle\" x=\"350\" y=\"-312.3\" font-family=\"Times,serif\" font-size=\"14.00\" fill=\"#000000\">value = 27.248</text>\n</g>\n<!-- 8&#45;&gt;16 -->\n<g id=\"edge16\" class=\"edge\">\n<title>8&#45;&gt;16</title>\n<path fill=\"none\" stroke=\"#000000\" d=\"M310.3188,-400.9465C316.5676,-389.9316 323.5112,-377.6922 329.8207,-366.5703\"/>\n<polygon fill=\"#000000\" stroke=\"#000000\" points=\"333.0523,-367.967 334.9424,-357.5422 326.9638,-364.513 333.0523,-367.967\"/>\n</g>\n<!-- 10 -->\n<g id=\"node11\" class=\"node\">\n<title>10</title>\n<polygon fill=\"none\" stroke=\"#000000\" points=\"224,-261 120,-261 120,-193 224,-193 224,-261\"/>\n<text text-anchor=\"middle\" x=\"172\" y=\"-245.8\" font-family=\"Times,serif\" font-size=\"14.00\" fill=\"#000000\">age &lt;= 63.7</text>\n<text text-anchor=\"middle\" x=\"172\" y=\"-230.8\" font-family=\"Times,serif\" font-size=\"14.00\" fill=\"#000000\">mse = 6.345</text>\n<text text-anchor=\"middle\" x=\"172\" y=\"-215.8\" font-family=\"Times,serif\" font-size=\"14.00\" fill=\"#000000\">samples = 50</text>\n<text text-anchor=\"middle\" x=\"172\" y=\"-200.8\" font-family=\"Times,serif\" font-size=\"14.00\" fill=\"#000000\">value = 24.366</text>\n</g>\n<!-- 9&#45;&gt;10 -->\n<g id=\"edge10\" class=\"edge\">\n<title>9&#45;&gt;10</title>\n<path fill=\"none\" stroke=\"#000000\" d=\"M211.6812,-296.9465C206.7913,-288.3271 201.4761,-278.9579 196.3722,-269.9611\"/>\n<polygon fill=\"#000000\" stroke=\"#000000\" points=\"199.3408,-268.1008 191.3622,-261.13 193.2524,-271.5549 199.3408,-268.1008\"/>\n</g>\n<!-- 15 -->\n<g id=\"node16\" class=\"node\">\n<title>15</title>\n<polygon fill=\"none\" stroke=\"#000000\" points=\"338,-253.5 242,-253.5 242,-200.5 338,-200.5 338,-253.5\"/>\n<text text-anchor=\"middle\" x=\"290\" y=\"-238.3\" font-family=\"Times,serif\" font-size=\"14.00\" fill=\"#000000\">mse = 5.119</text>\n<text text-anchor=\"middle\" x=\"290\" y=\"-223.3\" font-family=\"Times,serif\" font-size=\"14.00\" fill=\"#000000\">samples = 10</text>\n<text text-anchor=\"middle\" x=\"290\" y=\"-208.3\" font-family=\"Times,serif\" font-size=\"14.00\" fill=\"#000000\">value = 22.11</text>\n</g>\n<!-- 9&#45;&gt;15 -->\n<g id=\"edge15\" class=\"edge\">\n<title>9&#45;&gt;15</title>\n<path fill=\"none\" stroke=\"#000000\" d=\"M250.3188,-296.9465C256.5676,-285.9316 263.5112,-273.6922 269.8207,-262.5703\"/>\n<polygon fill=\"#000000\" stroke=\"#000000\" points=\"273.0523,-263.967 274.9424,-253.5422 266.9638,-260.513 273.0523,-263.967\"/>\n</g>\n<!-- 11 -->\n<g id=\"node12\" class=\"node\">\n<title>11</title>\n<polygon fill=\"none\" stroke=\"#000000\" points=\"165,-157 61,-157 61,-89 165,-89 165,-157\"/>\n<text text-anchor=\"middle\" x=\"113\" y=\"-141.8\" font-family=\"Times,serif\" font-size=\"14.00\" fill=\"#000000\">dis &lt;= 4.631</text>\n<text text-anchor=\"middle\" x=\"113\" y=\"-126.8\" font-family=\"Times,serif\" font-size=\"14.00\" fill=\"#000000\">mse = 6.944</text>\n<text text-anchor=\"middle\" x=\"113\" y=\"-111.8\" font-family=\"Times,serif\" font-size=\"14.00\" fill=\"#000000\">samples = 40</text>\n<text text-anchor=\"middle\" x=\"113\" y=\"-96.8\" font-family=\"Times,serif\" font-size=\"14.00\" fill=\"#000000\">value = 24.747</text>\n</g>\n<!-- 10&#45;&gt;11 -->\n<g id=\"edge11\" class=\"edge\">\n<title>10&#45;&gt;11</title>\n<path fill=\"none\" stroke=\"#000000\" d=\"M152.6812,-192.9465C147.7913,-184.3271 142.4761,-174.9579 137.3722,-165.9611\"/>\n<polygon fill=\"#000000\" stroke=\"#000000\" points=\"140.3408,-164.1008 132.3622,-157.13 134.2524,-167.5549 140.3408,-164.1008\"/>\n</g>\n<!-- 14 -->\n<g id=\"node15\" class=\"node\">\n<title>14</title>\n<polygon fill=\"none\" stroke=\"#000000\" points=\"280.5,-149.5 183.5,-149.5 183.5,-96.5 280.5,-96.5 280.5,-149.5\"/>\n<text text-anchor=\"middle\" x=\"232\" y=\"-134.3\" font-family=\"Times,serif\" font-size=\"14.00\" fill=\"#000000\">mse = 1.038</text>\n<text text-anchor=\"middle\" x=\"232\" y=\"-119.3\" font-family=\"Times,serif\" font-size=\"14.00\" fill=\"#000000\">samples = 10</text>\n<text text-anchor=\"middle\" x=\"232\" y=\"-104.3\" font-family=\"Times,serif\" font-size=\"14.00\" fill=\"#000000\">value = 22.84</text>\n</g>\n<!-- 10&#45;&gt;14 -->\n<g id=\"edge14\" class=\"edge\">\n<title>10&#45;&gt;14</title>\n<path fill=\"none\" stroke=\"#000000\" d=\"M191.6462,-192.9465C198.0645,-181.8215 205.2035,-169.4473 211.671,-158.237\"/>\n<polygon fill=\"#000000\" stroke=\"#000000\" points=\"214.7216,-159.9531 216.6872,-149.5422 208.6583,-156.455 214.7216,-159.9531\"/>\n</g>\n<!-- 12 -->\n<g id=\"node13\" class=\"node\">\n<title>12</title>\n<polygon fill=\"none\" stroke=\"#000000\" points=\"104,-53 0,-53 0,0 104,0 104,-53\"/>\n<text text-anchor=\"middle\" x=\"52\" y=\"-37.8\" font-family=\"Times,serif\" font-size=\"14.00\" fill=\"#000000\">mse = 14.017</text>\n<text text-anchor=\"middle\" x=\"52\" y=\"-22.8\" font-family=\"Times,serif\" font-size=\"14.00\" fill=\"#000000\">samples = 11</text>\n<text text-anchor=\"middle\" x=\"52\" y=\"-7.8\" font-family=\"Times,serif\" font-size=\"14.00\" fill=\"#000000\">value = 26.564</text>\n</g>\n<!-- 11&#45;&gt;12 -->\n<g id=\"edge12\" class=\"edge\">\n<title>11&#45;&gt;12</title>\n<path fill=\"none\" stroke=\"#000000\" d=\"M91.4937,-88.9777C85.9369,-80.187 79.9427,-70.7044 74.3441,-61.8477\"/>\n<polygon fill=\"#000000\" stroke=\"#000000\" points=\"77.2101,-59.8312 68.9084,-53.2485 71.2931,-63.5714 77.2101,-59.8312\"/>\n</g>\n<!-- 13 -->\n<g id=\"node14\" class=\"node\">\n<title>13</title>\n<polygon fill=\"none\" stroke=\"#000000\" points=\"226,-53 122,-53 122,0 226,0 226,-53\"/>\n<text text-anchor=\"middle\" x=\"174\" y=\"-37.8\" font-family=\"Times,serif\" font-size=\"14.00\" fill=\"#000000\">mse = 2.536</text>\n<text text-anchor=\"middle\" x=\"174\" y=\"-22.8\" font-family=\"Times,serif\" font-size=\"14.00\" fill=\"#000000\">samples = 29</text>\n<text text-anchor=\"middle\" x=\"174\" y=\"-7.8\" font-family=\"Times,serif\" font-size=\"14.00\" fill=\"#000000\">value = 24.059</text>\n</g>\n<!-- 11&#45;&gt;13 -->\n<g id=\"edge13\" class=\"edge\">\n<title>11&#45;&gt;13</title>\n<path fill=\"none\" stroke=\"#000000\" d=\"M134.5063,-88.9777C140.0631,-80.187 146.0573,-70.7044 151.6559,-61.8477\"/>\n<polygon fill=\"#000000\" stroke=\"#000000\" points=\"154.7069,-63.5714 157.0916,-53.2485 148.7899,-59.8312 154.7069,-63.5714\"/>\n</g>\n<!-- 19 -->\n<g id=\"node20\" class=\"node\">\n<title>19</title>\n<polygon fill=\"none\" stroke=\"#000000\" points=\"584,-573 480,-573 480,-505 584,-505 584,-573\"/>\n<text text-anchor=\"middle\" x=\"532\" y=\"-557.8\" font-family=\"Times,serif\" font-size=\"14.00\" fill=\"#000000\">tax &lt;= 309.0</text>\n<text text-anchor=\"middle\" x=\"532\" y=\"-542.8\" font-family=\"Times,serif\" font-size=\"14.00\" fill=\"#000000\">mse = 8.556</text>\n<text text-anchor=\"middle\" x=\"532\" y=\"-527.8\" font-family=\"Times,serif\" font-size=\"14.00\" fill=\"#000000\">samples = 33</text>\n<text text-anchor=\"middle\" x=\"532\" y=\"-512.8\" font-family=\"Times,serif\" font-size=\"14.00\" fill=\"#000000\">value = 21.864</text>\n</g>\n<!-- 18&#45;&gt;19 -->\n<g id=\"edge19\" class=\"edge\">\n<title>18&#45;&gt;19</title>\n<path fill=\"none\" stroke=\"#000000\" d=\"M574.3714,-608.9465C569.1501,-600.3271 563.4745,-590.9579 558.0245,-581.9611\"/>\n<polygon fill=\"#000000\" stroke=\"#000000\" points=\"560.8497,-579.8697 552.6749,-573.13 554.8626,-583.4965 560.8497,-579.8697\"/>\n</g>\n<!-- 22 -->\n<g id=\"node23\" class=\"node\">\n<title>22</title>\n<polygon fill=\"none\" stroke=\"#000000\" points=\"715.5,-573 602.5,-573 602.5,-505 715.5,-505 715.5,-573\"/>\n<text text-anchor=\"middle\" x=\"659\" y=\"-557.8\" font-family=\"Times,serif\" font-size=\"14.00\" fill=\"#000000\">indus &lt;= 10.245</text>\n<text text-anchor=\"middle\" x=\"659\" y=\"-542.8\" font-family=\"Times,serif\" font-size=\"14.00\" fill=\"#000000\">mse = 4.96</text>\n<text text-anchor=\"middle\" x=\"659\" y=\"-527.8\" font-family=\"Times,serif\" font-size=\"14.00\" fill=\"#000000\">samples = 80</text>\n<text text-anchor=\"middle\" x=\"659\" y=\"-512.8\" font-family=\"Times,serif\" font-size=\"14.00\" fill=\"#000000\">value = 20.319</text>\n</g>\n<!-- 18&#45;&gt;22 -->\n<g id=\"edge22\" class=\"edge\">\n<title>18&#45;&gt;22</title>\n<path fill=\"none\" stroke=\"#000000\" d=\"M615.956,-608.9465C621.3155,-600.2373 627.1461,-590.7626 632.7353,-581.6801\"/>\n<polygon fill=\"#000000\" stroke=\"#000000\" points=\"635.7367,-583.481 637.9969,-573.13 629.7751,-579.8122 635.7367,-583.481\"/>\n</g>\n<!-- 20 -->\n<g id=\"node21\" class=\"node\">\n<title>20</title>\n<polygon fill=\"none\" stroke=\"#000000\" points=\"465,-461.5 361,-461.5 361,-408.5 465,-408.5 465,-461.5\"/>\n<text text-anchor=\"middle\" x=\"413\" y=\"-446.3\" font-family=\"Times,serif\" font-size=\"14.00\" fill=\"#000000\">mse = 9.029</text>\n<text text-anchor=\"middle\" x=\"413\" y=\"-431.3\" font-family=\"Times,serif\" font-size=\"14.00\" fill=\"#000000\">samples = 15</text>\n<text text-anchor=\"middle\" x=\"413\" y=\"-416.3\" font-family=\"Times,serif\" font-size=\"14.00\" fill=\"#000000\">value = 23.127</text>\n</g>\n<!-- 19&#45;&gt;20 -->\n<g id=\"edge20\" class=\"edge\">\n<title>19&#45;&gt;20</title>\n<path fill=\"none\" stroke=\"#000000\" d=\"M493.0349,-504.9465C479.5491,-493.1606 464.4591,-479.9726 451.0479,-468.2519\"/>\n<polygon fill=\"#000000\" stroke=\"#000000\" points=\"453.2033,-465.4874 443.3704,-461.5422 448.5969,-470.7582 453.2033,-465.4874\"/>\n</g>\n<!-- 21 -->\n<g id=\"node22\" class=\"node\">\n<title>21</title>\n<polygon fill=\"none\" stroke=\"#000000\" points=\"587,-461.5 483,-461.5 483,-408.5 587,-408.5 587,-461.5\"/>\n<text text-anchor=\"middle\" x=\"535\" y=\"-446.3\" font-family=\"Times,serif\" font-size=\"14.00\" fill=\"#000000\">mse = 5.725</text>\n<text text-anchor=\"middle\" x=\"535\" y=\"-431.3\" font-family=\"Times,serif\" font-size=\"14.00\" fill=\"#000000\">samples = 18</text>\n<text text-anchor=\"middle\" x=\"535\" y=\"-416.3\" font-family=\"Times,serif\" font-size=\"14.00\" fill=\"#000000\">value = 20.811</text>\n</g>\n<!-- 19&#45;&gt;21 -->\n<g id=\"edge21\" class=\"edge\">\n<title>19&#45;&gt;21</title>\n<path fill=\"none\" stroke=\"#000000\" d=\"M532.9823,-504.9465C533.2905,-494.2621 533.632,-482.4254 533.945,-471.5742\"/>\n<polygon fill=\"#000000\" stroke=\"#000000\" points=\"537.4445,-471.639 534.2344,-461.5422 530.4474,-471.4371 537.4445,-471.639\"/>\n</g>\n<!-- 23 -->\n<g id=\"node24\" class=\"node\">\n<title>23</title>\n<polygon fill=\"none\" stroke=\"#000000\" points=\"709,-469 605,-469 605,-401 709,-401 709,-469\"/>\n<text text-anchor=\"middle\" x=\"657\" y=\"-453.8\" font-family=\"Times,serif\" font-size=\"14.00\" fill=\"#000000\">age &lt;= 70.1</text>\n<text text-anchor=\"middle\" x=\"657\" y=\"-438.8\" font-family=\"Times,serif\" font-size=\"14.00\" fill=\"#000000\">mse = 4.35</text>\n<text text-anchor=\"middle\" x=\"657\" y=\"-423.8\" font-family=\"Times,serif\" font-size=\"14.00\" fill=\"#000000\">samples = 44</text>\n<text text-anchor=\"middle\" x=\"657\" y=\"-408.8\" font-family=\"Times,serif\" font-size=\"14.00\" fill=\"#000000\">value = 19.661</text>\n</g>\n<!-- 22&#45;&gt;23 -->\n<g id=\"edge23\" class=\"edge\">\n<title>22&#45;&gt;23</title>\n<path fill=\"none\" stroke=\"#000000\" d=\"M658.3451,-504.9465C658.188,-496.776 658.0179,-487.9318 657.8533,-479.3697\"/>\n<polygon fill=\"#000000\" stroke=\"#000000\" points=\"661.3481,-479.0608 657.6563,-469.13 654.3494,-479.1955 661.3481,-479.0608\"/>\n</g>\n<!-- 26 -->\n<g id=\"node27\" class=\"node\">\n<title>26</title>\n<polygon fill=\"none\" stroke=\"#000000\" points=\"831,-469 727,-469 727,-401 831,-401 831,-469\"/>\n<text text-anchor=\"middle\" x=\"779\" y=\"-453.8\" font-family=\"Times,serif\" font-size=\"14.00\" fill=\"#000000\">nox &lt;= 0.627</text>\n<text text-anchor=\"middle\" x=\"779\" y=\"-438.8\" font-family=\"Times,serif\" font-size=\"14.00\" fill=\"#000000\">mse = 4.531</text>\n<text text-anchor=\"middle\" x=\"779\" y=\"-423.8\" font-family=\"Times,serif\" font-size=\"14.00\" fill=\"#000000\">samples = 36</text>\n<text text-anchor=\"middle\" x=\"779\" y=\"-408.8\" font-family=\"Times,serif\" font-size=\"14.00\" fill=\"#000000\">value = 21.122</text>\n</g>\n<!-- 22&#45;&gt;26 -->\n<g id=\"edge26\" class=\"edge\">\n<title>22&#45;&gt;26</title>\n<path fill=\"none\" stroke=\"#000000\" d=\"M698.2925,-504.9465C709.0667,-495.6088 720.8564,-485.3911 732.015,-475.7203\"/>\n<polygon fill=\"#000000\" stroke=\"#000000\" points=\"734.3546,-478.3243 739.6192,-469.13 729.7701,-473.0344 734.3546,-478.3243\"/>\n</g>\n<!-- 24 -->\n<g id=\"node25\" class=\"node\">\n<title>24</title>\n<polygon fill=\"none\" stroke=\"#000000\" points=\"591,-357.5 487,-357.5 487,-304.5 591,-304.5 591,-357.5\"/>\n<text text-anchor=\"middle\" x=\"539\" y=\"-342.3\" font-family=\"Times,serif\" font-size=\"14.00\" fill=\"#000000\">mse = 4.541</text>\n<text text-anchor=\"middle\" x=\"539\" y=\"-327.3\" font-family=\"Times,serif\" font-size=\"14.00\" fill=\"#000000\">samples = 26</text>\n<text text-anchor=\"middle\" x=\"539\" y=\"-312.3\" font-family=\"Times,serif\" font-size=\"14.00\" fill=\"#000000\">value = 20.292</text>\n</g>\n<!-- 23&#45;&gt;24 -->\n<g id=\"edge24\" class=\"edge\">\n<title>23&#45;&gt;24</title>\n<path fill=\"none\" stroke=\"#000000\" d=\"M618.3624,-400.9465C604.9899,-389.1606 590.0266,-375.9726 576.7281,-364.2519\"/>\n<polygon fill=\"#000000\" stroke=\"#000000\" points=\"578.9315,-361.5285 569.1151,-357.5422 574.303,-366.7799 578.9315,-361.5285\"/>\n</g>\n<!-- 25 -->\n<g id=\"node26\" class=\"node\">\n<title>25</title>\n<polygon fill=\"none\" stroke=\"#000000\" points=\"706.5,-357.5 609.5,-357.5 609.5,-304.5 706.5,-304.5 706.5,-357.5\"/>\n<text text-anchor=\"middle\" x=\"658\" y=\"-342.3\" font-family=\"Times,serif\" font-size=\"14.00\" fill=\"#000000\">mse = 2.668</text>\n<text text-anchor=\"middle\" x=\"658\" y=\"-327.3\" font-family=\"Times,serif\" font-size=\"14.00\" fill=\"#000000\">samples = 18</text>\n<text text-anchor=\"middle\" x=\"658\" y=\"-312.3\" font-family=\"Times,serif\" font-size=\"14.00\" fill=\"#000000\">value = 18.75</text>\n</g>\n<!-- 23&#45;&gt;25 -->\n<g id=\"edge25\" class=\"edge\">\n<title>23&#45;&gt;25</title>\n<path fill=\"none\" stroke=\"#000000\" d=\"M657.3274,-400.9465C657.4302,-390.2621 657.544,-378.4254 657.6483,-367.5742\"/>\n<polygon fill=\"#000000\" stroke=\"#000000\" points=\"661.1484,-367.5754 657.7448,-357.5422 654.1487,-367.508 661.1484,-367.5754\"/>\n</g>\n<!-- 27 -->\n<g id=\"node28\" class=\"node\">\n<title>27</title>\n<polygon fill=\"none\" stroke=\"#000000\" points=\"830,-357.5 726,-357.5 726,-304.5 830,-304.5 830,-357.5\"/>\n<text text-anchor=\"middle\" x=\"778\" y=\"-342.3\" font-family=\"Times,serif\" font-size=\"14.00\" fill=\"#000000\">mse = 4.093</text>\n<text text-anchor=\"middle\" x=\"778\" y=\"-327.3\" font-family=\"Times,serif\" font-size=\"14.00\" fill=\"#000000\">samples = 24</text>\n<text text-anchor=\"middle\" x=\"778\" y=\"-312.3\" font-family=\"Times,serif\" font-size=\"14.00\" fill=\"#000000\">value = 20.783</text>\n</g>\n<!-- 26&#45;&gt;27 -->\n<g id=\"edge27\" class=\"edge\">\n<title>26&#45;&gt;27</title>\n<path fill=\"none\" stroke=\"#000000\" d=\"M778.6726,-400.9465C778.5698,-390.2621 778.456,-378.4254 778.3517,-367.5742\"/>\n<polygon fill=\"#000000\" stroke=\"#000000\" points=\"781.8513,-367.508 778.2552,-357.5422 774.8516,-367.5754 781.8513,-367.508\"/>\n</g>\n<!-- 28 -->\n<g id=\"node29\" class=\"node\">\n<title>28</title>\n<polygon fill=\"none\" stroke=\"#000000\" points=\"940,-357.5 848,-357.5 848,-304.5 940,-304.5 940,-357.5\"/>\n<text text-anchor=\"middle\" x=\"894\" y=\"-342.3\" font-family=\"Times,serif\" font-size=\"14.00\" fill=\"#000000\">mse = 4.717</text>\n<text text-anchor=\"middle\" x=\"894\" y=\"-327.3\" font-family=\"Times,serif\" font-size=\"14.00\" fill=\"#000000\">samples = 12</text>\n<text text-anchor=\"middle\" x=\"894\" y=\"-312.3\" font-family=\"Times,serif\" font-size=\"14.00\" fill=\"#000000\">value = 21.8</text>\n</g>\n<!-- 26&#45;&gt;28 -->\n<g id=\"edge28\" class=\"edge\">\n<title>26&#45;&gt;28</title>\n<path fill=\"none\" stroke=\"#000000\" d=\"M816.6553,-400.9465C829.6878,-389.1606 844.2706,-375.9726 857.2311,-364.2519\"/>\n<polygon fill=\"#000000\" stroke=\"#000000\" points=\"859.5812,-366.8456 864.6505,-357.5422 854.886,-361.6537 859.5812,-366.8456\"/>\n</g>\n<!-- 30 -->\n<g id=\"node31\" class=\"node\">\n<title>30</title>\n<polygon fill=\"none\" stroke=\"#000000\" points=\"953,-781 849,-781 849,-713 953,-713 953,-781\"/>\n<text text-anchor=\"middle\" x=\"901\" y=\"-765.8\" font-family=\"Times,serif\" font-size=\"14.00\" fill=\"#000000\">nox &lt;= 0.531</text>\n<text text-anchor=\"middle\" x=\"901\" y=\"-750.8\" font-family=\"Times,serif\" font-size=\"14.00\" fill=\"#000000\">mse = 11.391</text>\n<text text-anchor=\"middle\" x=\"901\" y=\"-735.8\" font-family=\"Times,serif\" font-size=\"14.00\" fill=\"#000000\">samples = 101</text>\n<text text-anchor=\"middle\" x=\"901\" y=\"-720.8\" font-family=\"Times,serif\" font-size=\"14.00\" fill=\"#000000\">value = 17.138</text>\n</g>\n<!-- 29&#45;&gt;30 -->\n<g id=\"edge30\" class=\"edge\">\n<title>29&#45;&gt;30</title>\n<path fill=\"none\" stroke=\"#000000\" d=\"M942.0263,-816.9465C936.9707,-808.3271 931.4753,-798.9579 926.1983,-789.9611\"/>\n<polygon fill=\"#000000\" stroke=\"#000000\" points=\"929.0969,-787.985 921.0186,-781.13 923.0589,-791.5265 929.0969,-787.985\"/>\n</g>\n<!-- 39 -->\n<g id=\"node40\" class=\"node\">\n<title>39</title>\n<polygon fill=\"none\" stroke=\"#000000\" points=\"1075,-781 971,-781 971,-713 1075,-713 1075,-781\"/>\n<text text-anchor=\"middle\" x=\"1023\" y=\"-765.8\" font-family=\"Times,serif\" font-size=\"14.00\" fill=\"#000000\">nox &lt;= 0.606</text>\n<text text-anchor=\"middle\" x=\"1023\" y=\"-750.8\" font-family=\"Times,serif\" font-size=\"14.00\" fill=\"#000000\">mse = 14.674</text>\n<text text-anchor=\"middle\" x=\"1023\" y=\"-735.8\" font-family=\"Times,serif\" font-size=\"14.00\" fill=\"#000000\">samples = 74</text>\n<text text-anchor=\"middle\" x=\"1023\" y=\"-720.8\" font-family=\"Times,serif\" font-size=\"14.00\" fill=\"#000000\">value = 11.978</text>\n</g>\n<!-- 29&#45;&gt;39 -->\n<g id=\"edge39\" class=\"edge\">\n<title>29&#45;&gt;39</title>\n<path fill=\"none\" stroke=\"#000000\" d=\"M981.9737,-816.9465C987.0293,-808.3271 992.5247,-798.9579 997.8017,-789.9611\"/>\n<polygon fill=\"#000000\" stroke=\"#000000\" points=\"1000.9411,-791.5265 1002.9814,-781.13 994.9031,-787.985 1000.9411,-791.5265\"/>\n</g>\n<!-- 31 -->\n<g id=\"node32\" class=\"node\">\n<title>31</title>\n<polygon fill=\"none\" stroke=\"#000000\" points=\"831,-669.5 727,-669.5 727,-616.5 831,-616.5 831,-669.5\"/>\n<text text-anchor=\"middle\" x=\"779\" y=\"-654.3\" font-family=\"Times,serif\" font-size=\"14.00\" fill=\"#000000\">mse = 9.016</text>\n<text text-anchor=\"middle\" x=\"779\" y=\"-639.3\" font-family=\"Times,serif\" font-size=\"14.00\" fill=\"#000000\">samples = 24</text>\n<text text-anchor=\"middle\" x=\"779\" y=\"-624.3\" font-family=\"Times,serif\" font-size=\"14.00\" fill=\"#000000\">value = 20.021</text>\n</g>\n<!-- 30&#45;&gt;31 -->\n<g id=\"edge31\" class=\"edge\">\n<title>30&#45;&gt;31</title>\n<path fill=\"none\" stroke=\"#000000\" d=\"M861.0526,-712.9465C847.2268,-701.1606 831.7564,-687.9726 818.0071,-676.2519\"/>\n<polygon fill=\"#000000\" stroke=\"#000000\" points=\"820.0168,-673.366 810.136,-669.5422 815.4756,-678.6931 820.0168,-673.366\"/>\n</g>\n<!-- 32 -->\n<g id=\"node33\" class=\"node\">\n<title>32</title>\n<polygon fill=\"none\" stroke=\"#000000\" points=\"953,-677 849,-677 849,-609 953,-609 953,-677\"/>\n<text text-anchor=\"middle\" x=\"901\" y=\"-661.8\" font-family=\"Times,serif\" font-size=\"14.00\" fill=\"#000000\">lstat &lt;= 18.885</text>\n<text text-anchor=\"middle\" x=\"901\" y=\"-646.8\" font-family=\"Times,serif\" font-size=\"14.00\" fill=\"#000000\">mse = 8.733</text>\n<text text-anchor=\"middle\" x=\"901\" y=\"-631.8\" font-family=\"Times,serif\" font-size=\"14.00\" fill=\"#000000\">samples = 77</text>\n<text text-anchor=\"middle\" x=\"901\" y=\"-616.8\" font-family=\"Times,serif\" font-size=\"14.00\" fill=\"#000000\">value = 16.239</text>\n</g>\n<!-- 30&#45;&gt;32 -->\n<g id=\"edge32\" class=\"edge\">\n<title>30&#45;&gt;32</title>\n<path fill=\"none\" stroke=\"#000000\" d=\"M901,-712.9465C901,-704.776 901,-695.9318 901,-687.3697\"/>\n<polygon fill=\"#000000\" stroke=\"#000000\" points=\"904.5001,-687.13 901,-677.13 897.5001,-687.13 904.5001,-687.13\"/>\n</g>\n<!-- 33 -->\n<g id=\"node34\" class=\"node\">\n<title>33</title>\n<polygon fill=\"none\" stroke=\"#000000\" points=\"953,-573 849,-573 849,-505 953,-505 953,-573\"/>\n<text text-anchor=\"middle\" x=\"901\" y=\"-557.8\" font-family=\"Times,serif\" font-size=\"14.00\" fill=\"#000000\">age &lt;= 85.2</text>\n<text text-anchor=\"middle\" x=\"901\" y=\"-542.8\" font-family=\"Times,serif\" font-size=\"14.00\" fill=\"#000000\">mse = 5.952</text>\n<text text-anchor=\"middle\" x=\"901\" y=\"-527.8\" font-family=\"Times,serif\" font-size=\"14.00\" fill=\"#000000\">samples = 53</text>\n<text text-anchor=\"middle\" x=\"901\" y=\"-512.8\" font-family=\"Times,serif\" font-size=\"14.00\" fill=\"#000000\">value = 17.234</text>\n</g>\n<!-- 32&#45;&gt;33 -->\n<g id=\"edge33\" class=\"edge\">\n<title>32&#45;&gt;33</title>\n<path fill=\"none\" stroke=\"#000000\" d=\"M901,-608.9465C901,-600.776 901,-591.9318 901,-583.3697\"/>\n<polygon fill=\"#000000\" stroke=\"#000000\" points=\"904.5001,-583.13 901,-573.13 897.5001,-583.13 904.5001,-583.13\"/>\n</g>\n<!-- 38 -->\n<g id=\"node39\" class=\"node\">\n<title>38</title>\n<polygon fill=\"none\" stroke=\"#000000\" points=\"1075,-565.5 971,-565.5 971,-512.5 1075,-512.5 1075,-565.5\"/>\n<text text-anchor=\"middle\" x=\"1023\" y=\"-550.3\" font-family=\"Times,serif\" font-size=\"14.00\" fill=\"#000000\">mse = 7.862</text>\n<text text-anchor=\"middle\" x=\"1023\" y=\"-535.3\" font-family=\"Times,serif\" font-size=\"14.00\" fill=\"#000000\">samples = 24</text>\n<text text-anchor=\"middle\" x=\"1023\" y=\"-520.3\" font-family=\"Times,serif\" font-size=\"14.00\" fill=\"#000000\">value = 14.042</text>\n</g>\n<!-- 32&#45;&gt;38 -->\n<g id=\"edge38\" class=\"edge\">\n<title>32&#45;&gt;38</title>\n<path fill=\"none\" stroke=\"#000000\" d=\"M940.9474,-608.9465C954.7732,-597.1606 970.2436,-583.9726 983.9929,-572.2519\"/>\n<polygon fill=\"#000000\" stroke=\"#000000\" points=\"986.5244,-574.6931 991.864,-565.5422 981.9832,-569.366 986.5244,-574.6931\"/>\n</g>\n<!-- 34 -->\n<g id=\"node35\" class=\"node\">\n<title>34</title>\n<polygon fill=\"none\" stroke=\"#000000\" points=\"953,-461.5 849,-461.5 849,-408.5 953,-408.5 953,-461.5\"/>\n<text text-anchor=\"middle\" x=\"901\" y=\"-446.3\" font-family=\"Times,serif\" font-size=\"14.00\" fill=\"#000000\">mse = 4.531</text>\n<text text-anchor=\"middle\" x=\"901\" y=\"-431.3\" font-family=\"Times,serif\" font-size=\"14.00\" fill=\"#000000\">samples = 12</text>\n<text text-anchor=\"middle\" x=\"901\" y=\"-416.3\" font-family=\"Times,serif\" font-size=\"14.00\" fill=\"#000000\">value = 19.408</text>\n</g>\n<!-- 33&#45;&gt;34 -->\n<g id=\"edge34\" class=\"edge\">\n<title>33&#45;&gt;34</title>\n<path fill=\"none\" stroke=\"#000000\" d=\"M901,-504.9465C901,-494.2621 901,-482.4254 901,-471.5742\"/>\n<polygon fill=\"#000000\" stroke=\"#000000\" points=\"904.5001,-471.5421 901,-461.5422 897.5001,-471.5422 904.5001,-471.5421\"/>\n</g>\n<!-- 35 -->\n<g id=\"node36\" class=\"node\">\n<title>35</title>\n<polygon fill=\"none\" stroke=\"#000000\" points=\"1075,-469 971,-469 971,-401 1075,-401 1075,-469\"/>\n<text text-anchor=\"middle\" x=\"1023\" y=\"-453.8\" font-family=\"Times,serif\" font-size=\"14.00\" fill=\"#000000\">crim &lt;= 0.615</text>\n<text text-anchor=\"middle\" x=\"1023\" y=\"-438.8\" font-family=\"Times,serif\" font-size=\"14.00\" fill=\"#000000\">mse = 4.579</text>\n<text text-anchor=\"middle\" x=\"1023\" y=\"-423.8\" font-family=\"Times,serif\" font-size=\"14.00\" fill=\"#000000\">samples = 41</text>\n<text text-anchor=\"middle\" x=\"1023\" y=\"-408.8\" font-family=\"Times,serif\" font-size=\"14.00\" fill=\"#000000\">value = 16.598</text>\n</g>\n<!-- 33&#45;&gt;35 -->\n<g id=\"edge35\" class=\"edge\">\n<title>33&#45;&gt;35</title>\n<path fill=\"none\" stroke=\"#000000\" d=\"M940.9474,-504.9465C951.9012,-495.6088 963.8873,-485.3911 975.232,-475.7203\"/>\n<polygon fill=\"#000000\" stroke=\"#000000\" points=\"977.6233,-478.2809 982.9629,-469.13 973.0821,-472.9538 977.6233,-478.2809\"/>\n</g>\n<!-- 36 -->\n<g id=\"node37\" class=\"node\">\n<title>36</title>\n<polygon fill=\"none\" stroke=\"#000000\" points=\"1069,-357.5 965,-357.5 965,-304.5 1069,-304.5 1069,-357.5\"/>\n<text text-anchor=\"middle\" x=\"1017\" y=\"-342.3\" font-family=\"Times,serif\" font-size=\"14.00\" fill=\"#000000\">mse = 3.971</text>\n<text text-anchor=\"middle\" x=\"1017\" y=\"-327.3\" font-family=\"Times,serif\" font-size=\"14.00\" fill=\"#000000\">samples = 16</text>\n<text text-anchor=\"middle\" x=\"1017\" y=\"-312.3\" font-family=\"Times,serif\" font-size=\"14.00\" fill=\"#000000\">value = 18.112</text>\n</g>\n<!-- 35&#45;&gt;36 -->\n<g id=\"edge36\" class=\"edge\">\n<title>35&#45;&gt;36</title>\n<path fill=\"none\" stroke=\"#000000\" d=\"M1021.0354,-400.9465C1020.419,-390.2621 1019.7361,-378.4254 1019.1101,-367.5742\"/>\n<polygon fill=\"#000000\" stroke=\"#000000\" points=\"1022.6015,-367.3239 1018.5313,-357.5422 1015.6131,-367.7272 1022.6015,-367.3239\"/>\n</g>\n<!-- 37 -->\n<g id=\"node38\" class=\"node\">\n<title>37</title>\n<polygon fill=\"none\" stroke=\"#000000\" points=\"1191,-357.5 1087,-357.5 1087,-304.5 1191,-304.5 1191,-357.5\"/>\n<text text-anchor=\"middle\" x=\"1139\" y=\"-342.3\" font-family=\"Times,serif\" font-size=\"14.00\" fill=\"#000000\">mse = 2.559</text>\n<text text-anchor=\"middle\" x=\"1139\" y=\"-327.3\" font-family=\"Times,serif\" font-size=\"14.00\" fill=\"#000000\">samples = 25</text>\n<text text-anchor=\"middle\" x=\"1139\" y=\"-312.3\" font-family=\"Times,serif\" font-size=\"14.00\" fill=\"#000000\">value = 15.628</text>\n</g>\n<!-- 35&#45;&gt;37 -->\n<g id=\"edge37\" class=\"edge\">\n<title>35&#45;&gt;37</title>\n<path fill=\"none\" stroke=\"#000000\" d=\"M1060.9827,-400.9465C1074.1286,-389.1606 1088.8382,-375.9726 1101.9113,-364.2519\"/>\n<polygon fill=\"#000000\" stroke=\"#000000\" points=\"1104.286,-366.8236 1109.3953,-357.5422 1099.6131,-361.6116 1104.286,-366.8236\"/>\n</g>\n<!-- 40 -->\n<g id=\"node41\" class=\"node\">\n<title>40</title>\n<polygon fill=\"none\" stroke=\"#000000\" points=\"1075,-669.5 971,-669.5 971,-616.5 1075,-616.5 1075,-669.5\"/>\n<text text-anchor=\"middle\" x=\"1023\" y=\"-654.3\" font-family=\"Times,serif\" font-size=\"14.00\" fill=\"#000000\">mse = 18.606</text>\n<text text-anchor=\"middle\" x=\"1023\" y=\"-639.3\" font-family=\"Times,serif\" font-size=\"14.00\" fill=\"#000000\">samples = 12</text>\n<text text-anchor=\"middle\" x=\"1023\" y=\"-624.3\" font-family=\"Times,serif\" font-size=\"14.00\" fill=\"#000000\">value = 16.633</text>\n</g>\n<!-- 39&#45;&gt;40 -->\n<g id=\"edge40\" class=\"edge\">\n<title>39&#45;&gt;40</title>\n<path fill=\"none\" stroke=\"#000000\" d=\"M1023,-712.9465C1023,-702.2621 1023,-690.4254 1023,-679.5742\"/>\n<polygon fill=\"#000000\" stroke=\"#000000\" points=\"1026.5001,-679.5421 1023,-669.5422 1019.5001,-679.5422 1026.5001,-679.5421\"/>\n</g>\n<!-- 41 -->\n<g id=\"node42\" class=\"node\">\n<title>41</title>\n<polygon fill=\"none\" stroke=\"#000000\" points=\"1197,-677 1093,-677 1093,-609 1197,-609 1197,-677\"/>\n<text text-anchor=\"middle\" x=\"1145\" y=\"-661.8\" font-family=\"Times,serif\" font-size=\"14.00\" fill=\"#000000\">lstat &lt;= 19.645</text>\n<text text-anchor=\"middle\" x=\"1145\" y=\"-646.8\" font-family=\"Times,serif\" font-size=\"14.00\" fill=\"#000000\">mse = 8.908</text>\n<text text-anchor=\"middle\" x=\"1145\" y=\"-631.8\" font-family=\"Times,serif\" font-size=\"14.00\" fill=\"#000000\">samples = 62</text>\n<text text-anchor=\"middle\" x=\"1145\" y=\"-616.8\" font-family=\"Times,serif\" font-size=\"14.00\" fill=\"#000000\">value = 11.077</text>\n</g>\n<!-- 39&#45;&gt;41 -->\n<g id=\"edge41\" class=\"edge\">\n<title>39&#45;&gt;41</title>\n<path fill=\"none\" stroke=\"#000000\" d=\"M1062.9474,-712.9465C1073.9012,-703.6088 1085.8873,-693.3911 1097.232,-683.7203\"/>\n<polygon fill=\"#000000\" stroke=\"#000000\" points=\"1099.6233,-686.2809 1104.9629,-677.13 1095.0821,-680.9538 1099.6233,-686.2809\"/>\n</g>\n<!-- 42 -->\n<g id=\"node43\" class=\"node\">\n<title>42</title>\n<polygon fill=\"none\" stroke=\"#000000\" points=\"1197,-565.5 1093,-565.5 1093,-512.5 1197,-512.5 1197,-565.5\"/>\n<text text-anchor=\"middle\" x=\"1145\" y=\"-550.3\" font-family=\"Times,serif\" font-size=\"14.00\" fill=\"#000000\">mse = 4.18</text>\n<text text-anchor=\"middle\" x=\"1145\" y=\"-535.3\" font-family=\"Times,serif\" font-size=\"14.00\" fill=\"#000000\">samples = 18</text>\n<text text-anchor=\"middle\" x=\"1145\" y=\"-520.3\" font-family=\"Times,serif\" font-size=\"14.00\" fill=\"#000000\">value = 13.922</text>\n</g>\n<!-- 41&#45;&gt;42 -->\n<g id=\"edge42\" class=\"edge\">\n<title>41&#45;&gt;42</title>\n<path fill=\"none\" stroke=\"#000000\" d=\"M1145,-608.9465C1145,-598.2621 1145,-586.4254 1145,-575.5742\"/>\n<polygon fill=\"#000000\" stroke=\"#000000\" points=\"1148.5001,-575.5421 1145,-565.5422 1141.5001,-575.5422 1148.5001,-575.5421\"/>\n</g>\n<!-- 43 -->\n<g id=\"node44\" class=\"node\">\n<title>43</title>\n<polygon fill=\"none\" stroke=\"#000000\" points=\"1312.5,-573 1215.5,-573 1215.5,-505 1312.5,-505 1312.5,-573\"/>\n<text text-anchor=\"middle\" x=\"1264\" y=\"-557.8\" font-family=\"Times,serif\" font-size=\"14.00\" fill=\"#000000\">nox &lt;= 0.675</text>\n<text text-anchor=\"middle\" x=\"1264\" y=\"-542.8\" font-family=\"Times,serif\" font-size=\"14.00\" fill=\"#000000\">mse = 6.177</text>\n<text text-anchor=\"middle\" x=\"1264\" y=\"-527.8\" font-family=\"Times,serif\" font-size=\"14.00\" fill=\"#000000\">samples = 44</text>\n<text text-anchor=\"middle\" x=\"1264\" y=\"-512.8\" font-family=\"Times,serif\" font-size=\"14.00\" fill=\"#000000\">value = 9.914</text>\n</g>\n<!-- 41&#45;&gt;43 -->\n<g id=\"edge43\" class=\"edge\">\n<title>41&#45;&gt;43</title>\n<path fill=\"none\" stroke=\"#000000\" d=\"M1183.9651,-608.9465C1194.6495,-599.6088 1206.3409,-589.3911 1217.4066,-579.7203\"/>\n<polygon fill=\"#000000\" stroke=\"#000000\" points=\"1219.7209,-582.346 1224.9474,-573.13 1215.1145,-577.0752 1219.7209,-582.346\"/>\n</g>\n<!-- 44 -->\n<g id=\"node45\" class=\"node\">\n<title>44</title>\n<polygon fill=\"none\" stroke=\"#000000\" points=\"1308.5,-461.5 1211.5,-461.5 1211.5,-408.5 1308.5,-408.5 1308.5,-461.5\"/>\n<text text-anchor=\"middle\" x=\"1260\" y=\"-446.3\" font-family=\"Times,serif\" font-size=\"14.00\" fill=\"#000000\">mse = 1.544</text>\n<text text-anchor=\"middle\" x=\"1260\" y=\"-431.3\" font-family=\"Times,serif\" font-size=\"14.00\" fill=\"#000000\">samples = 10</text>\n<text text-anchor=\"middle\" x=\"1260\" y=\"-416.3\" font-family=\"Times,serif\" font-size=\"14.00\" fill=\"#000000\">value = 12.63</text>\n</g>\n<!-- 43&#45;&gt;44 -->\n<g id=\"edge44\" class=\"edge\">\n<title>43&#45;&gt;44</title>\n<path fill=\"none\" stroke=\"#000000\" d=\"M1262.6903,-504.9465C1262.2793,-494.2621 1261.8241,-482.4254 1261.4067,-471.5742\"/>\n<polygon fill=\"#000000\" stroke=\"#000000\" points=\"1264.9027,-471.4002 1261.0209,-461.5422 1257.9079,-471.6693 1264.9027,-471.4002\"/>\n</g>\n<!-- 45 -->\n<g id=\"node46\" class=\"node\">\n<title>45</title>\n<polygon fill=\"none\" stroke=\"#000000\" points=\"1427,-469 1327,-469 1327,-401 1427,-401 1427,-469\"/>\n<text text-anchor=\"middle\" x=\"1377\" y=\"-453.8\" font-family=\"Times,serif\" font-size=\"14.00\" fill=\"#000000\">crim &lt;= 13.24</text>\n<text text-anchor=\"middle\" x=\"1377\" y=\"-438.8\" font-family=\"Times,serif\" font-size=\"14.00\" fill=\"#000000\">mse = 4.731</text>\n<text text-anchor=\"middle\" x=\"1377\" y=\"-423.8\" font-family=\"Times,serif\" font-size=\"14.00\" fill=\"#000000\">samples = 34</text>\n<text text-anchor=\"middle\" x=\"1377\" y=\"-408.8\" font-family=\"Times,serif\" font-size=\"14.00\" fill=\"#000000\">value = 9.115</text>\n</g>\n<!-- 43&#45;&gt;45 -->\n<g id=\"edge45\" class=\"edge\">\n<title>43&#45;&gt;45</title>\n<path fill=\"none\" stroke=\"#000000\" d=\"M1301.0004,-504.9465C1311.0486,-495.6986 1322.0347,-485.5876 1332.4526,-475.9994\"/>\n<polygon fill=\"#000000\" stroke=\"#000000\" points=\"1334.9286,-478.4773 1339.9164,-469.13 1330.1882,-473.3267 1334.9286,-478.4773\"/>\n</g>\n<!-- 46 -->\n<g id=\"node47\" class=\"node\">\n<title>46</title>\n<polygon fill=\"none\" stroke=\"#000000\" points=\"1367.5,-357.5 1270.5,-357.5 1270.5,-304.5 1367.5,-304.5 1367.5,-357.5\"/>\n<text text-anchor=\"middle\" x=\"1319\" y=\"-342.3\" font-family=\"Times,serif\" font-size=\"14.00\" fill=\"#000000\">mse = 3.989</text>\n<text text-anchor=\"middle\" x=\"1319\" y=\"-327.3\" font-family=\"Times,serif\" font-size=\"14.00\" fill=\"#000000\">samples = 15</text>\n<text text-anchor=\"middle\" x=\"1319\" y=\"-312.3\" font-family=\"Times,serif\" font-size=\"14.00\" fill=\"#000000\">value = 10.46</text>\n</g>\n<!-- 45&#45;&gt;46 -->\n<g id=\"edge46\" class=\"edge\">\n<title>45&#45;&gt;46</title>\n<path fill=\"none\" stroke=\"#000000\" d=\"M1358.0086,-400.9465C1351.8657,-389.9316 1345.0399,-377.6922 1338.8373,-366.5703\"/>\n<polygon fill=\"#000000\" stroke=\"#000000\" points=\"1341.7299,-364.5711 1333.8024,-357.5422 1335.6163,-367.9806 1341.7299,-364.5711\"/>\n</g>\n<!-- 47 -->\n<g id=\"node48\" class=\"node\">\n<title>47</title>\n<polygon fill=\"none\" stroke=\"#000000\" points=\"1482.5,-357.5 1385.5,-357.5 1385.5,-304.5 1482.5,-304.5 1482.5,-357.5\"/>\n<text text-anchor=\"middle\" x=\"1434\" y=\"-342.3\" font-family=\"Times,serif\" font-size=\"14.00\" fill=\"#000000\">mse = 2.76</text>\n<text text-anchor=\"middle\" x=\"1434\" y=\"-327.3\" font-family=\"Times,serif\" font-size=\"14.00\" fill=\"#000000\">samples = 19</text>\n<text text-anchor=\"middle\" x=\"1434\" y=\"-312.3\" font-family=\"Times,serif\" font-size=\"14.00\" fill=\"#000000\">value = 8.053</text>\n</g>\n<!-- 45&#45;&gt;47 -->\n<g id=\"edge47\" class=\"edge\">\n<title>45&#45;&gt;47</title>\n<path fill=\"none\" stroke=\"#000000\" d=\"M1395.6639,-400.9465C1401.7009,-389.9316 1408.4091,-377.6922 1414.5047,-366.5703\"/>\n<polygon fill=\"#000000\" stroke=\"#000000\" points=\"1417.7158,-367.9936 1419.4529,-357.5422 1411.5773,-364.6292 1417.7158,-367.9936\"/>\n</g>\n<!-- 49 -->\n<g id=\"node50\" class=\"node\">\n<title>49</title>\n<polygon fill=\"none\" stroke=\"#000000\" points=\"1258,-885 1154,-885 1154,-817 1258,-817 1258,-885\"/>\n<text text-anchor=\"middle\" x=\"1206\" y=\"-869.8\" font-family=\"Times,serif\" font-size=\"14.00\" fill=\"#000000\">lstat &lt;= 5.495</text>\n<text text-anchor=\"middle\" x=\"1206\" y=\"-854.8\" font-family=\"Times,serif\" font-size=\"14.00\" fill=\"#000000\">mse = 41.296</text>\n<text text-anchor=\"middle\" x=\"1206\" y=\"-839.8\" font-family=\"Times,serif\" font-size=\"14.00\" fill=\"#000000\">samples = 46</text>\n<text text-anchor=\"middle\" x=\"1206\" y=\"-824.8\" font-family=\"Times,serif\" font-size=\"14.00\" fill=\"#000000\">value = 32.113</text>\n</g>\n<!-- 48&#45;&gt;49 -->\n<g id=\"edge49\" class=\"edge\">\n<title>48&#45;&gt;49</title>\n<path fill=\"none\" stroke=\"#000000\" d=\"M1206,-920.9465C1206,-912.776 1206,-903.9318 1206,-895.3697\"/>\n<polygon fill=\"#000000\" stroke=\"#000000\" points=\"1209.5001,-895.13 1206,-885.13 1202.5001,-895.13 1209.5001,-895.13\"/>\n</g>\n<!-- 52 -->\n<g id=\"node53\" class=\"node\">\n<title>52</title>\n<polygon fill=\"none\" stroke=\"#000000\" points=\"1441,-885 1337,-885 1337,-817 1441,-817 1441,-885\"/>\n<text text-anchor=\"middle\" x=\"1389\" y=\"-869.8\" font-family=\"Times,serif\" font-size=\"14.00\" fill=\"#000000\">ptratio &lt;= 15.4</text>\n<text text-anchor=\"middle\" x=\"1389\" y=\"-854.8\" font-family=\"Times,serif\" font-size=\"14.00\" fill=\"#000000\">mse = 36.628</text>\n<text text-anchor=\"middle\" x=\"1389\" y=\"-839.8\" font-family=\"Times,serif\" font-size=\"14.00\" fill=\"#000000\">samples = 30</text>\n<text text-anchor=\"middle\" x=\"1389\" y=\"-824.8\" font-family=\"Times,serif\" font-size=\"14.00\" fill=\"#000000\">value = 45.097</text>\n</g>\n<!-- 48&#45;&gt;52 -->\n<g id=\"edge52\" class=\"edge\">\n<title>48&#45;&gt;52</title>\n<path fill=\"none\" stroke=\"#000000\" d=\"M1258.4405,-925.1978C1280.1655,-912.8513 1305.5071,-898.4495 1328.0529,-885.6366\"/>\n<polygon fill=\"#000000\" stroke=\"#000000\" points=\"1329.9037,-888.6105 1336.8685,-880.6266 1326.445,-882.5247 1329.9037,-888.6105\"/>\n</g>\n<!-- 50 -->\n<g id=\"node51\" class=\"node\">\n<title>50</title>\n<polygon fill=\"none\" stroke=\"#000000\" points=\"1197,-773.5 1093,-773.5 1093,-720.5 1197,-720.5 1197,-773.5\"/>\n<text text-anchor=\"middle\" x=\"1145\" y=\"-758.3\" font-family=\"Times,serif\" font-size=\"14.00\" fill=\"#000000\">mse = 17.249</text>\n<text text-anchor=\"middle\" x=\"1145\" y=\"-743.3\" font-family=\"Times,serif\" font-size=\"14.00\" fill=\"#000000\">samples = 23</text>\n<text text-anchor=\"middle\" x=\"1145\" y=\"-728.3\" font-family=\"Times,serif\" font-size=\"14.00\" fill=\"#000000\">value = 35.248</text>\n</g>\n<!-- 49&#45;&gt;50 -->\n<g id=\"edge50\" class=\"edge\">\n<title>49&#45;&gt;50</title>\n<path fill=\"none\" stroke=\"#000000\" d=\"M1186.0263,-816.9465C1179.501,-805.8215 1172.2431,-793.4473 1165.6678,-782.237\"/>\n<polygon fill=\"#000000\" stroke=\"#000000\" points=\"1168.6464,-780.3971 1160.568,-773.5422 1162.6084,-783.9387 1168.6464,-780.3971\"/>\n</g>\n<!-- 51 -->\n<g id=\"node52\" class=\"node\">\n<title>51</title>\n<polygon fill=\"none\" stroke=\"#000000\" points=\"1319,-773.5 1215,-773.5 1215,-720.5 1319,-720.5 1319,-773.5\"/>\n<text text-anchor=\"middle\" x=\"1267\" y=\"-758.3\" font-family=\"Times,serif\" font-size=\"14.00\" fill=\"#000000\">mse = 45.69</text>\n<text text-anchor=\"middle\" x=\"1267\" y=\"-743.3\" font-family=\"Times,serif\" font-size=\"14.00\" fill=\"#000000\">samples = 23</text>\n<text text-anchor=\"middle\" x=\"1267\" y=\"-728.3\" font-family=\"Times,serif\" font-size=\"14.00\" fill=\"#000000\">value = 28.978</text>\n</g>\n<!-- 49&#45;&gt;51 -->\n<g id=\"edge51\" class=\"edge\">\n<title>49&#45;&gt;51</title>\n<path fill=\"none\" stroke=\"#000000\" d=\"M1225.9737,-816.9465C1232.499,-805.8215 1239.7569,-793.4473 1246.3322,-782.237\"/>\n<polygon fill=\"#000000\" stroke=\"#000000\" points=\"1249.3916,-783.9387 1251.432,-773.5422 1243.3536,-780.3971 1249.3916,-783.9387\"/>\n</g>\n<!-- 53 -->\n<g id=\"node54\" class=\"node\">\n<title>53</title>\n<polygon fill=\"none\" stroke=\"#000000\" points=\"1441,-773.5 1337,-773.5 1337,-720.5 1441,-720.5 1441,-773.5\"/>\n<text text-anchor=\"middle\" x=\"1389\" y=\"-758.3\" font-family=\"Times,serif\" font-size=\"14.00\" fill=\"#000000\">mse = 7.774</text>\n<text text-anchor=\"middle\" x=\"1389\" y=\"-743.3\" font-family=\"Times,serif\" font-size=\"14.00\" fill=\"#000000\">samples = 16</text>\n<text text-anchor=\"middle\" x=\"1389\" y=\"-728.3\" font-family=\"Times,serif\" font-size=\"14.00\" fill=\"#000000\">value = 47.975</text>\n</g>\n<!-- 52&#45;&gt;53 -->\n<g id=\"edge53\" class=\"edge\">\n<title>52&#45;&gt;53</title>\n<path fill=\"none\" stroke=\"#000000\" d=\"M1389,-816.9465C1389,-806.2621 1389,-794.4254 1389,-783.5742\"/>\n<polygon fill=\"#000000\" stroke=\"#000000\" points=\"1392.5001,-783.5421 1389,-773.5422 1385.5001,-783.5422 1392.5001,-783.5421\"/>\n</g>\n<!-- 54 -->\n<g id=\"node55\" class=\"node\">\n<title>54</title>\n<polygon fill=\"none\" stroke=\"#000000\" points=\"1563,-773.5 1459,-773.5 1459,-720.5 1563,-720.5 1563,-773.5\"/>\n<text text-anchor=\"middle\" x=\"1511\" y=\"-758.3\" font-family=\"Times,serif\" font-size=\"14.00\" fill=\"#000000\">mse = 49.315</text>\n<text text-anchor=\"middle\" x=\"1511\" y=\"-743.3\" font-family=\"Times,serif\" font-size=\"14.00\" fill=\"#000000\">samples = 14</text>\n<text text-anchor=\"middle\" x=\"1511\" y=\"-728.3\" font-family=\"Times,serif\" font-size=\"14.00\" fill=\"#000000\">value = 41.807</text>\n</g>\n<!-- 52&#45;&gt;54 -->\n<g id=\"edge54\" class=\"edge\">\n<title>52&#45;&gt;54</title>\n<path fill=\"none\" stroke=\"#000000\" d=\"M1428.9474,-816.9465C1442.7732,-805.1606 1458.2436,-791.9726 1471.9929,-780.2519\"/>\n<polygon fill=\"#000000\" stroke=\"#000000\" points=\"1474.5244,-782.6931 1479.864,-773.5422 1469.9832,-777.366 1474.5244,-782.6931\"/>\n</g>\n</g>\n</svg>\n"
          },
          "metadata": {
            "tags": []
          },
          "execution_count": 38
        }
      ]
    }
  ]
}