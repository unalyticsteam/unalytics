{
  "nbformat": 4,
  "nbformat_minor": 0,
  "metadata": {
    "colab": {
      "name": "Python-notas.ipynb",
      "version": "0.3.2",
      "provenance": [],
      "collapsed_sections": []
    },
    "kernelspec": {
      "name": "python3",
      "display_name": "Python 3"
    }
  },
  "cells": [
    {
      "cell_type": "markdown",
      "metadata": {
        "id": "3oVsUejC-Wna",
        "colab_type": "text"
      },
      "source": [
        "# Python\n",
        "Heber Esteban Bermúdez G.\n",
        "\n",
        "**Notas Basicas**\n",
        "---\n"
      ]
    },
    {
      "cell_type": "markdown",
      "metadata": {
        "id": "7-2tyUD-J6Vk",
        "colab_type": "text"
      },
      "source": [
        "Python es un lenguaje de programación interpretado cuya filosofía hace hincapié en una sintaxis que favorezca un código legible. Se trata de un lenguaje de programación multiparadigma, ya que soporta orientación a objetos, programación imperativa y, en menor medida, programación funcional. Es un lenguaje interpretado, de tipado fuerte, dinámico y multiplataforma.\n",
        "\n",
        "**Caracteristicas.**\n",
        "\n",
        "*   Lenguaje de alto nivel.\n",
        "*   Tipado dinamico y fuerte.\n",
        "*   Orientado a objetos.\n",
        "*   Open source.\n",
        "*   Interpretado. \n",
        "*   Multiplataforma.\n",
        "\n",
        "\n",
        "**Historia**\n",
        "\n",
        "Python fue creado a finales de los ochenta por Guido van Rossum en el Centro para las Matemáticas y la Informática (CWI, Centrum Wiskunde & Informatica), en los Países Bajos, como un sucesor del lenguaje de programación ABC.\n",
        "\n",
        "\n",
        "**Que es pip**\n",
        "\n",
        "PiP es un acrónimo recursivo de \" Pip Installs Packages \". Es esencialmente un sistema de administración de paquetes utilizado para instalar y administrar paquetes de software escritos en Python **py -m pip install pandas**\n",
        "\n",
        "\n",
        "\n",
        "**Donde programar ?**\n",
        "\n",
        "* Consola (.py)\n",
        "* Bloc de notas\n",
        "* ipython (Interactive python)\n",
        "* jupyter notebook (.ipynb)\n",
        "* jupyter.org (nube)\n",
        "* Colaboratory (google)\n",
        "* IDLE\n",
        "* Spyder (Distribución anaconda navigator)\n",
        "\n",
        "\n",
        "**Librerias mas usadas en python**\n",
        "* NumPy (soporte para vectores y matrices)\n",
        "* scipy (computacion cientifica)\n",
        "* pandas (estadistica, data frame)\n",
        "* scikit learn (machine learning)\n",
        "* tensorflow (redes neuronales)\n",
        "* astropy (para astronomia)\n",
        "* matplotlib (graficacion)\n",
        "* pytorch\n",
        "\n",
        "\n",
        "**Tipos de datos en Python** (lo veremos en detalle mas adelante)\n",
        "* Enteros (int)\n",
        "* Booleanos (bool) (compatibles con opeaciones booleanas and, or, not.)\n",
        "* Cadenas (str)\n",
        "* Listas: Son un grupo o array de datos (mutables)\n",
        "* Diccionarios: Son un grupo de valores o datos que se acceden a travéz de una clave\n",
        "* Tuplas: también son un grupo de datos igual que una lista (pero inmutables)"
      ]
    },
    {
      "cell_type": "markdown",
      "metadata": {
        "id": "kbwI3jSmTS5P",
        "colab_type": "text"
      },
      "source": [
        "## **Etapas del Análisis de datos**\n",
        "\n",
        "**1) Enmarcar el problema**\n",
        "\n",
        "¿Cual es el objetivo del análisis?\n",
        "\n",
        "**2) Adquirir y preparar los datos**\n",
        "\n",
        "**3) Explorar los datos**\n",
        "\n",
        "Estadística descriptiva\n",
        "\n",
        "**4) Modelamiento y evaluacion de resultados**\n",
        "\n",
        "**5) Comunicar los resultados/ poner en producción**\n",
        "\n",
        "\n"
      ]
    },
    {
      "cell_type": "markdown",
      "metadata": {
        "id": "xAaM0oJRiZwb",
        "colab_type": "text"
      },
      "source": [
        "*Usa la estadística como un borracho usa las farolas, para el apoyo en lugar de la iluminacion - Andrew Lang*"
      ]
    },
    {
      "cell_type": "markdown",
      "metadata": {
        "id": "LPdBJwFOlzqZ",
        "colab_type": "text"
      },
      "source": [
        "**Operadores comunes**\n",
        "---"
      ]
    },
    {
      "cell_type": "markdown",
      "metadata": {
        "id": "fMR3ntEumHom",
        "colab_type": "text"
      },
      "source": [
        "longitud de una cadena, tupla, lista, diccionario, etc."
      ]
    },
    {
      "cell_type": "code",
      "metadata": {
        "id": "4WGtJjsClzHu",
        "colab_type": "code",
        "outputId": "7f241e56-d86e-4761-a517-33621a8f71b2",
        "colab": {
          "base_uri": "https://localhost:8080/",
          "height": 34
        }
      },
      "source": [
        "len(\"hola\")"
      ],
      "execution_count": 0,
      "outputs": [
        {
          "output_type": "execute_result",
          "data": {
            "text/plain": [
              "4"
            ]
          },
          "metadata": {
            "tags": []
          },
          "execution_count": 1
        }
      ]
    },
    {
      "cell_type": "markdown",
      "metadata": {
        "id": "0mnDin_ZmQ4e",
        "colab_type": "text"
      },
      "source": [
        "Para observar el tipo de dato usamos la función type()"
      ]
    },
    {
      "cell_type": "code",
      "metadata": {
        "id": "XAD5LNhrmZnP",
        "colab_type": "code",
        "outputId": "1c1caa53-975c-4bcc-897a-7aa2d4f34eb4",
        "colab": {
          "base_uri": "https://localhost:8080/",
          "height": 34
        }
      },
      "source": [
        "type(8.5)"
      ],
      "execution_count": 0,
      "outputs": [
        {
          "output_type": "execute_result",
          "data": {
            "text/plain": [
              "float"
            ]
          },
          "metadata": {
            "tags": []
          },
          "execution_count": 2
        }
      ]
    },
    {
      "cell_type": "markdown",
      "metadata": {
        "id": "3b15hg-mmdsm",
        "colab_type": "text"
      },
      "source": [
        "Redondear.\n"
      ]
    },
    {
      "cell_type": "code",
      "metadata": {
        "id": "8ueJJk-lmmyn",
        "colab_type": "code",
        "outputId": "1ec1dab5-3d8f-451e-9981-d936a24b7ec6",
        "colab": {
          "base_uri": "https://localhost:8080/",
          "height": 34
        }
      },
      "source": [
        "# redondeando a 3 cifras decimales\n",
        "round(8.12345678, 3 ) "
      ],
      "execution_count": 0,
      "outputs": [
        {
          "output_type": "execute_result",
          "data": {
            "text/plain": [
              "8.123"
            ]
          },
          "metadata": {
            "tags": []
          },
          "execution_count": 11
        }
      ]
    },
    {
      "cell_type": "markdown",
      "metadata": {
        "id": "VX1t4-h-nkgb",
        "colab_type": "text"
      },
      "source": [
        "Organizar un conjunto"
      ]
    },
    {
      "cell_type": "code",
      "metadata": {
        "id": "Cx5JZabwnpMQ",
        "colab_type": "code",
        "outputId": "6d819a92-871a-488e-95f2-949d613aa984",
        "colab": {
          "base_uri": "https://localhost:8080/",
          "height": 34
        }
      },
      "source": [
        "sorted([1,8,9,6,4,])"
      ],
      "execution_count": 0,
      "outputs": [
        {
          "output_type": "execute_result",
          "data": {
            "text/plain": [
              "[1, 4, 6, 8, 9]"
            ]
          },
          "metadata": {
            "tags": []
          },
          "execution_count": 17
        }
      ]
    },
    {
      "cell_type": "markdown",
      "metadata": {
        "id": "JjZpSkxSn5eX",
        "colab_type": "text"
      },
      "source": [
        "funciones o metodos que se pueden aplicar a un tipo de datos"
      ]
    },
    {
      "cell_type": "code",
      "metadata": {
        "id": "1UvCKyosn_Ue",
        "colab_type": "code",
        "colab": {}
      },
      "source": [
        "a = \"hola mundo\"\n",
        "dir(a)"
      ],
      "execution_count": 0,
      "outputs": []
    },
    {
      "cell_type": "markdown",
      "metadata": {
        "id": "75ctiokWemHY",
        "colab_type": "text"
      },
      "source": [
        "**Nuestro primer programa**\n",
        "---"
      ]
    },
    {
      "cell_type": "code",
      "metadata": {
        "id": "SF-HO29NerU8",
        "colab_type": "code",
        "colab": {}
      },
      "source": [
        "import turtle\n",
        "window = turtle.Screen()\n",
        "esteban = turtle.Turtle()\n",
        "esteban.fordwar(50)\n",
        "esteban.left(90)\n",
        "esteban.fordwar(50)\n",
        "esteban.left(90)\n",
        "esteban.fordwar(50)\n",
        "esteban.left(90)\n",
        "esteban.fordwar(50)\n",
        "esteban.left(90)\n",
        "turtle.mainloop()\n"
      ],
      "execution_count": 0,
      "outputs": []
    },
    {
      "cell_type": "markdown",
      "metadata": {
        "id": "TD-Lq4uw_61n",
        "colab_type": "text"
      },
      "source": [
        "**Imprimir**\n",
        "---"
      ]
    },
    {
      "cell_type": "markdown",
      "metadata": {
        "id": "orApxXGGo29J",
        "colab_type": "text"
      },
      "source": [
        "En Python existe una amplia manera de imprimir resultados en pantalla, aquí mostraremos algunas de ellas. "
      ]
    },
    {
      "cell_type": "code",
      "metadata": {
        "id": "O5LkOguIBSWh",
        "colab_type": "code",
        "colab": {}
      },
      "source": [
        "# Primero definamos algunas variables para trabajar.\n",
        "a = 8\n",
        "b = 8.8\n",
        "c = \"Unalytics\"\n"
      ],
      "execution_count": 0,
      "outputs": []
    },
    {
      "cell_type": "code",
      "metadata": {
        "id": "g9YApDtv-xnn",
        "colab_type": "code",
        "outputId": "2662ec25-391d-48f6-8c37-cddd12582c6a",
        "colab": {
          "base_uri": "https://localhost:8080/",
          "height": 170
        }
      },
      "source": [
        "# Forma 1.\n",
        "print(\"hola mundo\")\n",
        "\n",
        "# Forma 2.\n",
        "print(a, b, c)\n",
        "print(\"a:\", a, \"b:\", b, \"c:\", c)\n",
        "print(\"resultado\", a*b)\n",
        "print(\"Escribir algo entre \\\"comillas\\\"\")\n",
        "\n",
        "# Forma 3. (Especificadores de formato)\n",
        "print(\"numero1: %d numero2: %.2f caracteres: %s\" %(a,b,c))\n",
        "\n",
        "# Forma 4. (triple comilla)\n",
        "print(\"\"\"para que podamos \n",
        "incluir saltos \n",
        "de linea\"\"\")\n",
        "\n"
      ],
      "execution_count": 0,
      "outputs": [
        {
          "output_type": "stream",
          "text": [
            "hola mundo\n",
            "8 8.8 Unalytics\n",
            "a: 8 b: 8.8 c: Unalytics\n",
            "resultado 70.4\n",
            "Escribir algo entre \"comillas\"\n",
            "numero1: 8 numero2: 8.80 caracteres: Unalytics\n",
            "para que podamos \n",
            "incluir saltos \n",
            "de linea\n"
          ],
          "name": "stdout"
        }
      ]
    },
    {
      "cell_type": "markdown",
      "metadata": {
        "id": "hmyUCfTUAV93",
        "colab_type": "text"
      },
      "source": [
        "\n",
        "**Nota:**\n",
        "```\n",
        "print(\"hola mundo\")  en  py 3.x  (forma funcional)\n",
        "print \"hola mundo\"   en  py 2.x\n",
        "```\n",
        "\n"
      ]
    },
    {
      "cell_type": "markdown",
      "metadata": {
        "id": "9VmiU5-TDSPl",
        "colab_type": "text"
      },
      "source": [
        "**Entrada**\n",
        "---"
      ]
    },
    {
      "cell_type": "code",
      "metadata": {
        "id": "8hiMHAvAAnUH",
        "colab_type": "code",
        "outputId": "e0289dfb-10e1-4a34-d968-d97ec4a97693",
        "colab": {
          "base_uri": "https://localhost:8080/",
          "height": 51
        }
      },
      "source": [
        "input()"
      ],
      "execution_count": 0,
      "outputs": [
        {
          "output_type": "stream",
          "text": [
            "Esteban\n"
          ],
          "name": "stdout"
        },
        {
          "output_type": "execute_result",
          "data": {
            "text/plain": [
              "'Esteban'"
            ]
          },
          "metadata": {
            "tags": []
          },
          "execution_count": 17
        }
      ]
    },
    {
      "cell_type": "markdown",
      "metadata": {
        "id": "8E1D8P2PFKv2",
        "colab_type": "text"
      },
      "source": [
        "Estructuras de control\n",
        "---"
      ]
    },
    {
      "cell_type": "markdown",
      "metadata": {
        "id": "q0uCVuu5FRYe",
        "colab_type": "text"
      },
      "source": [
        "**Condicionales** (if)\n",
        "___"
      ]
    },
    {
      "cell_type": "code",
      "metadata": {
        "id": "1850KvQALv6c",
        "colab_type": "code",
        "outputId": "a4d7ef81-29f9-4c31-fbd4-32ded0a0237b",
        "colab": {
          "base_uri": "https://localhost:8080/",
          "height": 34
        }
      },
      "source": [
        "# Declarando variables \n",
        "numero_1 = 80\n",
        "numero_2 = 10\n",
        "\n",
        "# condicional (if)\n",
        "if numero_1 > numero_2:\n",
        "  print(\"numero_1 es mayor\")\n",
        "else:\n",
        "  print(\"numero_1 no es mayor\")\n",
        "  \n",
        "# Nota: Muy importante la identación."
      ],
      "execution_count": 0,
      "outputs": [
        {
          "output_type": "stream",
          "text": [
            "numero_1 es mayor\n"
          ],
          "name": "stdout"
        }
      ]
    },
    {
      "cell_type": "code",
      "metadata": {
        "id": "C96DEUHObCnR",
        "colab_type": "code",
        "colab": {}
      },
      "source": [
        "nota = int(input(\"Ingrese su nota: \"))\n",
        "\n",
        "if nota < 3:\n",
        "  print(\"Perdio\")\n",
        "elif nota <= 4:\n",
        "  print(\"gano\")\n",
        "elif nota <= 5:\n",
        "  print(\"exelente\")\n",
        "else:\n",
        "  print(\"nota incorrecta\")\n",
        "\n"
      ],
      "execution_count": 0,
      "outputs": []
    },
    {
      "cell_type": "code",
      "metadata": {
        "id": "8eftZJANeGiw",
        "colab_type": "code",
        "colab": {}
      },
      "source": [
        "# concatenacion de operadores de condicion\n",
        "\n",
        "edad = int(input(\"ingrese edad: \\n\"))\n",
        "if 0<edad<100:\n",
        "  print(\"edad correcta\")\n",
        "else:\n",
        "  print(\"edad incorrecta\")\n"
      ],
      "execution_count": 0,
      "outputs": []
    },
    {
      "cell_type": "markdown",
      "metadata": {
        "id": "4PVXdOPxh7Ok",
        "colab_type": "text"
      },
      "source": [
        "**Operadores logicos (and, or, in )**"
      ]
    },
    {
      "cell_type": "markdown",
      "metadata": {
        "id": "PqEZn8o_FYWe",
        "colab_type": "text"
      },
      "source": [
        "**Ciclos - bucle**\n",
        "___"
      ]
    },
    {
      "cell_type": "markdown",
      "metadata": {
        "id": "yjMk6x0DjF2w",
        "colab_type": "text"
      },
      "source": [
        "for"
      ]
    },
    {
      "cell_type": "code",
      "metadata": {
        "id": "JAQS8wluFaTe",
        "colab_type": "code",
        "outputId": "c9de1bf2-55f1-4313-8c46-c45e6c5d118a",
        "colab": {
          "base_uri": "https://localhost:8080/",
          "height": 68
        }
      },
      "source": [
        "for i in [1,2,5]:\n",
        "  print(i)"
      ],
      "execution_count": 0,
      "outputs": [
        {
          "output_type": "stream",
          "text": [
            "1\n",
            "2\n",
            "5\n"
          ],
          "name": "stdout"
        }
      ]
    },
    {
      "cell_type": "markdown",
      "metadata": {
        "id": "Z0kI5s4yFbZv",
        "colab_type": "text"
      },
      "source": [
        "**Funciones**\n",
        "---\n",
        "Son un bloque de código que realizan una tarea especifica, Las funciones pueden o no devolver valores, pueden tener parámetros o no, las funciones se crean con la palabra reservada ```def``` \n",
        "\n"
      ]
    },
    {
      "cell_type": "code",
      "metadata": {
        "id": "tfS5afWONtUA",
        "colab_type": "code",
        "colab": {}
      },
      "source": [
        "# creando (declarando) función\n",
        "def nombre_de_la_funcion(a, b):\n",
        "  c=a**b\n",
        "  return(c)\n",
        "  \n",
        "# Nota: return es opcional"
      ],
      "execution_count": 0,
      "outputs": []
    },
    {
      "cell_type": "code",
      "metadata": {
        "id": "udqBhrTBOz5A",
        "colab_type": "code",
        "colab": {}
      },
      "source": [
        "# llamado a la función\n",
        "nombre_de_la_funcion(a=2, b=3)"
      ],
      "execution_count": 0,
      "outputs": []
    },
    {
      "cell_type": "markdown",
      "metadata": {
        "id": "x8IRQcn3XiV1",
        "colab_type": "text"
      },
      "source": [
        "**Estructuras de datos**\n",
        "---"
      ]
    },
    {
      "cell_type": "markdown",
      "metadata": {
        "id": "9_mUrZswRfGx",
        "colab_type": "text"
      },
      "source": [
        "**Listas**\n",
        "___\n",
        "\n",
        "Estructura de datos que permite alamcenar valores (lista = array en R).\n",
        "\n",
        "Puede almacenar diferentes tipos de valores\n"
      ]
    },
    {
      "cell_type": "code",
      "metadata": {
        "id": "muIUZIB8R2d5",
        "colab_type": "code",
        "outputId": "6669914d-513b-4cde-a600-3ebb47728f6a",
        "colab": {
          "base_uri": "https://localhost:8080/",
          "height": 34
        }
      },
      "source": [
        "# Creando lista\n",
        "mi_lista = [8, 8.8, \"Unalytics\", \"UN\", 100, True, False]\n",
        "\n",
        "# tipo\n",
        "type(mi_lista)"
      ],
      "execution_count": 0,
      "outputs": [
        {
          "output_type": "execute_result",
          "data": {
            "text/plain": [
              "list"
            ]
          },
          "metadata": {
            "tags": []
          },
          "execution_count": 63
        }
      ]
    },
    {
      "cell_type": "markdown",
      "metadata": {
        "id": "mzv32HXJU4Iq",
        "colab_type": "text"
      },
      "source": [
        "Accediendo a elementos"
      ]
    },
    {
      "cell_type": "code",
      "metadata": {
        "id": "OXoZdZBWTOIh",
        "colab_type": "code",
        "outputId": "d5c46d14-44d9-492d-b029-3d33e005eb06",
        "colab": {
          "base_uri": "https://localhost:8080/",
          "height": 34
        }
      },
      "source": [
        "#Imprimiendo elementos\n",
        "print(mi_lista[:])"
      ],
      "execution_count": 0,
      "outputs": [
        {
          "output_type": "stream",
          "text": [
            "['Medellín', 8, 8.8, 'Unalytics', 'UN', 100, 'Colombia', 'otra lista', 'Sabrina']\n"
          ],
          "name": "stdout"
        }
      ]
    },
    {
      "cell_type": "code",
      "metadata": {
        "id": "UiRGyjgmTa5Y",
        "colab_type": "code",
        "outputId": "92c77a83-fc2f-4084-f89e-6179e19eeefd",
        "colab": {
          "base_uri": "https://localhost:8080/",
          "height": 34
        }
      },
      "source": [
        "# Accediendo a un elemento\n",
        "mi_lista[-1]"
      ],
      "execution_count": 0,
      "outputs": [
        {
          "output_type": "execute_result",
          "data": {
            "text/plain": [
              "100"
            ]
          },
          "metadata": {
            "tags": []
          },
          "execution_count": 66
        }
      ]
    },
    {
      "cell_type": "code",
      "metadata": {
        "id": "B1K6FM3sUXbC",
        "colab_type": "code",
        "outputId": "4ace0a9e-6e85-4378-fc73-d000a6b0f854",
        "colab": {
          "base_uri": "https://localhost:8080/",
          "height": 34
        }
      },
      "source": [
        "# Accediendo a un elemento\n",
        "mi_lista[2:]"
      ],
      "execution_count": 0,
      "outputs": [
        {
          "output_type": "execute_result",
          "data": {
            "text/plain": [
              "['Unalytics', 'UN', 100]"
            ]
          },
          "metadata": {
            "tags": []
          },
          "execution_count": 65
        }
      ]
    },
    {
      "cell_type": "markdown",
      "metadata": {
        "id": "fHlmitHHUyKy",
        "colab_type": "text"
      },
      "source": [
        "Agregando elementos (appen, insert, extend, index, in)"
      ]
    },
    {
      "cell_type": "code",
      "metadata": {
        "id": "NTCvgXJnUxXh",
        "colab_type": "code",
        "colab": {}
      },
      "source": [
        "mi_lista.append(\"Colombia\")"
      ],
      "execution_count": 0,
      "outputs": []
    },
    {
      "cell_type": "code",
      "metadata": {
        "id": "uk_qzTPyVPDi",
        "colab_type": "code",
        "colab": {}
      },
      "source": [
        "mi_lista.insert(0, \"Medellín\")"
      ],
      "execution_count": 0,
      "outputs": []
    },
    {
      "cell_type": "code",
      "metadata": {
        "id": "v5ihsiIvVicB",
        "colab_type": "code",
        "colab": {}
      },
      "source": [
        "mi_lista.extend([\"otra lista\", \"Sabrina\"])"
      ],
      "execution_count": 0,
      "outputs": []
    },
    {
      "cell_type": "code",
      "metadata": {
        "id": "M6jPeyEOV1RS",
        "colab_type": "code",
        "outputId": "a1b4415c-0586-4895-e8e1-ff636bb80822",
        "colab": {
          "base_uri": "https://localhost:8080/",
          "height": 34
        }
      },
      "source": [
        "mi_lista.index(\"Unalytics\")"
      ],
      "execution_count": 0,
      "outputs": [
        {
          "output_type": "execute_result",
          "data": {
            "text/plain": [
              "3"
            ]
          },
          "metadata": {
            "tags": []
          },
          "execution_count": 61
        }
      ]
    },
    {
      "cell_type": "code",
      "metadata": {
        "id": "-iepkCW_WMTd",
        "colab_type": "code",
        "outputId": "6a731afe-653c-464a-ec33-54aebdc13c07",
        "colab": {
          "base_uri": "https://localhost:8080/",
          "height": 34
        }
      },
      "source": [
        "\"Unalytics\" in mi_lista"
      ],
      "execution_count": 0,
      "outputs": [
        {
          "output_type": "execute_result",
          "data": {
            "text/plain": [
              "True"
            ]
          },
          "metadata": {
            "tags": []
          },
          "execution_count": 71
        }
      ]
    },
    {
      "cell_type": "markdown",
      "metadata": {
        "id": "QETSnonSXY_9",
        "colab_type": "text"
      },
      "source": [
        "**Tuplas**\n",
        "___\n",
        "\n",
        "Las tuplas son listan inmutable (no podemos modificarlas).\n",
        "\n",
        "permiten comprobación (in)\n",
        "\n",
        "Ventajas: Mayor rendimiento\n",
        "\n",
        "Convertir tupla a lista : list()\n",
        "\n",
        "Convertir lista a tupla: tuple()\n",
        "\n",
        "Desempaquetado de tupla. "
      ]
    },
    {
      "cell_type": "code",
      "metadata": {
        "id": "UfPxFx-bX3L6",
        "colab_type": "code",
        "colab": {}
      },
      "source": [
        "# Creando tupla\n",
        "mi_tupla=(\"1\", 2, 3, \"Unalytics\", True, False)"
      ],
      "execution_count": 0,
      "outputs": []
    },
    {
      "cell_type": "code",
      "metadata": {
        "id": "2-9z5YQVYgdU",
        "colab_type": "code",
        "outputId": "70a56aac-878a-49ee-df6f-1b312d0911df",
        "colab": {
          "base_uri": "https://localhost:8080/",
          "height": 34
        }
      },
      "source": [
        "mi_tupla"
      ],
      "execution_count": 0,
      "outputs": [
        {
          "output_type": "execute_result",
          "data": {
            "text/plain": [
              "('1', 2, 3, 'Unalytics', True, False)"
            ]
          },
          "metadata": {
            "tags": []
          },
          "execution_count": 80
        }
      ]
    },
    {
      "cell_type": "code",
      "metadata": {
        "id": "GfVb_0YhZ8LO",
        "colab_type": "code",
        "outputId": "4a5ad36f-9b9e-4805-feed-9e77c78901f7",
        "colab": {
          "base_uri": "https://localhost:8080/",
          "height": 34
        }
      },
      "source": [
        "len(mi_tupla)"
      ],
      "execution_count": 0,
      "outputs": [
        {
          "output_type": "execute_result",
          "data": {
            "text/plain": [
              "6"
            ]
          },
          "metadata": {
            "tags": []
          },
          "execution_count": 81
        }
      ]
    },
    {
      "cell_type": "markdown",
      "metadata": {
        "id": "ANvzLU7BaxtI",
        "colab_type": "text"
      },
      "source": [
        "**Diccionarios**\n",
        "___\n",
        "\n",
        "Los datos se almacenan como **Clave : Valor**\n",
        "\n",
        "Cualquier tipo de datos (lista, tuplas, otro diccionario)"
      ]
    },
    {
      "cell_type": "code",
      "metadata": {
        "id": "5V6cioiea02G",
        "colab_type": "code",
        "colab": {}
      },
      "source": [
        "mi_diccionario = {\"Colombia\":[\"Medellín\", \"Bogotá\"], \"USA\":\"New york\", \"numeros\":(1,2,3)}"
      ],
      "execution_count": 0,
      "outputs": []
    },
    {
      "cell_type": "code",
      "metadata": {
        "id": "v0W6BHJubrEu",
        "colab_type": "code",
        "outputId": "7b06fee4-ec46-42bc-c8c7-f9f741a4ba8a",
        "colab": {
          "base_uri": "https://localhost:8080/",
          "height": 34
        }
      },
      "source": [
        "mi_diccionario[\"Colombia\"][:]"
      ],
      "execution_count": 0,
      "outputs": [
        {
          "output_type": "execute_result",
          "data": {
            "text/plain": [
              "['Medellín', 'Bogotá']"
            ]
          },
          "metadata": {
            "tags": []
          },
          "execution_count": 90
        }
      ]
    },
    {
      "cell_type": "code",
      "metadata": {
        "id": "NUYgf006cMFN",
        "colab_type": "code",
        "colab": {}
      },
      "source": [
        "mi_diccionario[\"Animales\"]=[\"perro\", \"gato\"]"
      ],
      "execution_count": 0,
      "outputs": []
    },
    {
      "cell_type": "code",
      "metadata": {
        "id": "Nh_14Y3McW90",
        "colab_type": "code",
        "outputId": "0c18c84b-10db-418e-a24e-e6e0def3969a",
        "colab": {
          "base_uri": "https://localhost:8080/",
          "height": 68
        }
      },
      "source": [
        "mi_diccionario"
      ],
      "execution_count": 0,
      "outputs": [
        {
          "output_type": "execute_result",
          "data": {
            "text/plain": [
              "{'Animales': ['perro', 'gato'],\n",
              " 'Colombia': ['Medellín', 'Bogotá'],\n",
              " 'numeros': (1, 2, 3)}"
            ]
          },
          "metadata": {
            "tags": []
          },
          "execution_count": 99
        }
      ]
    },
    {
      "cell_type": "code",
      "metadata": {
        "id": "5vIaN3nZcrMf",
        "colab_type": "code",
        "colab": {}
      },
      "source": [
        "# Eliminando valores\n",
        "del mi_diccionario[\"USA\"]"
      ],
      "execution_count": 0,
      "outputs": []
    },
    {
      "cell_type": "code",
      "metadata": {
        "id": "nO45NjPVdY3A",
        "colab_type": "code",
        "outputId": "a19aa523-d40f-4fcb-ab4c-8e34361b321d",
        "colab": {
          "base_uri": "https://localhost:8080/",
          "height": 34
        }
      },
      "source": [
        "mi_diccionario.keys()"
      ],
      "execution_count": 0,
      "outputs": [
        {
          "output_type": "execute_result",
          "data": {
            "text/plain": [
              "dict_keys(['Colombia', 'numeros', 'Animales'])"
            ]
          },
          "metadata": {
            "tags": []
          },
          "execution_count": 101
        }
      ]
    },
    {
      "cell_type": "markdown",
      "metadata": {
        "id": "dpRB0OF8ph-c",
        "colab_type": "text"
      },
      "source": [
        "**Clases**\n",
        "---\n",
        "\n",
        "Una clase no es mas que la representación de un objeto. \n"
      ]
    },
    {
      "cell_type": "code",
      "metadata": {
        "id": "dq-9bVO-p7aN",
        "colab_type": "code",
        "colab": {}
      },
      "source": [
        "class Estudiante(object): \n",
        "  def __init__(self,nombre_r,edad_r):\n",
        "    self.nombre = nombre_r\n",
        "    self.edad = edad_r \n",
        "\n",
        "  def hola(self):\n",
        "    return \"Mi nombre es %s y tengo %i\" % (self.nombre, self.edad)"
      ],
      "execution_count": 0,
      "outputs": []
    },
    {
      "cell_type": "code",
      "metadata": {
        "id": "eBBMalS8q-43",
        "colab_type": "code",
        "outputId": "f6dfef0d-52e4-4d71-e600-307926ad62c3",
        "colab": {
          "base_uri": "https://localhost:8080/",
          "height": 34
        }
      },
      "source": [
        "e = Estudiante(\"Arturo\", 21) \n",
        "print(e.hola())"
      ],
      "execution_count": 0,
      "outputs": [
        {
          "output_type": "stream",
          "text": [
            "Mi nombre es Arturo y tengo 21\n"
          ],
          "name": "stdout"
        }
      ]
    },
    {
      "cell_type": "markdown",
      "metadata": {
        "id": "tx_25fKdvgBu",
        "colab_type": "text"
      },
      "source": [
        "**Métodos especiales**\n",
        "___\n",
        "\n",
        "**```cmp(self,otro)```**\n",
        "\n",
        "Método llamado cuando utilizas los operadores de comparación para comprobar si tu objeto es menor, mayor o igual al objeto pasado como parámetro.\n",
        "\n",
        "**```len(self)```**\n",
        "Método llamado para comprobar la longitud del objeto. Lo usas, por ejemplo, cuando llamas la función len(obj) sobre nuestro código. Como es de suponer el método te debe devolver la longitud del objeto.\n",
        "\n",
        "**```init(self,otro)```**\n",
        "Es un constructor de nuestra clase, es decir, es un “método especial” que es llamas automáticamente cuando creas un objeto."
      ]
    },
    {
      "cell_type": "markdown",
      "metadata": {
        "id": "vIVjvdQ7LSTP",
        "colab_type": "text"
      },
      "source": [
        "**Practica**\n",
        "---\n",
        "\n",
        "atributo (sin parecentesis)\n",
        "metodo (con parentesis)"
      ]
    },
    {
      "cell_type": "code",
      "metadata": {
        "id": "Xv9v47HSLSfv",
        "colab_type": "code",
        "colab": {}
      },
      "source": [
        "# cargando libreria\n",
        "import pandas as pd\n",
        "import numpy as np\n",
        "import matplotlib.pyplot as plt"
      ],
      "execution_count": 0,
      "outputs": []
    },
    {
      "cell_type": "code",
      "metadata": {
        "id": "aAmPe47mMKPj",
        "colab_type": "code",
        "colab": {}
      },
      "source": [
        "auto = pd.read_csv(\"https://raw.githubusercontent.com/unalyticsteam/databases/master/auto-mpg.csv\")"
      ],
      "execution_count": 0,
      "outputs": []
    },
    {
      "cell_type": "code",
      "metadata": {
        "id": "SZmWuFwgMlly",
        "colab_type": "code",
        "outputId": "0a577a8b-2a36-409e-a11e-f38b232e6c76",
        "colab": {
          "base_uri": "https://localhost:8080/",
          "height": 204
        }
      },
      "source": [
        "auto.head()"
      ],
      "execution_count": 0,
      "outputs": [
        {
          "output_type": "execute_result",
          "data": {
            "text/html": [
              "<div>\n",
              "<style scoped>\n",
              "    .dataframe tbody tr th:only-of-type {\n",
              "        vertical-align: middle;\n",
              "    }\n",
              "\n",
              "    .dataframe tbody tr th {\n",
              "        vertical-align: top;\n",
              "    }\n",
              "\n",
              "    .dataframe thead th {\n",
              "        text-align: right;\n",
              "    }\n",
              "</style>\n",
              "<table border=\"1\" class=\"dataframe\">\n",
              "  <thead>\n",
              "    <tr style=\"text-align: right;\">\n",
              "      <th></th>\n",
              "      <th>No</th>\n",
              "      <th>mpg</th>\n",
              "      <th>cylinders</th>\n",
              "      <th>displacement</th>\n",
              "      <th>horsepower</th>\n",
              "      <th>weight</th>\n",
              "      <th>acceleration</th>\n",
              "      <th>model_year</th>\n",
              "      <th>car_name</th>\n",
              "    </tr>\n",
              "  </thead>\n",
              "  <tbody>\n",
              "    <tr>\n",
              "      <th>0</th>\n",
              "      <td>1</td>\n",
              "      <td>28.0</td>\n",
              "      <td>4</td>\n",
              "      <td>140.0</td>\n",
              "      <td>90</td>\n",
              "      <td>2264</td>\n",
              "      <td>15.5</td>\n",
              "      <td>71</td>\n",
              "      <td>chevrolet vega 2300</td>\n",
              "    </tr>\n",
              "    <tr>\n",
              "      <th>1</th>\n",
              "      <td>2</td>\n",
              "      <td>19.0</td>\n",
              "      <td>3</td>\n",
              "      <td>70.0</td>\n",
              "      <td>97</td>\n",
              "      <td>2330</td>\n",
              "      <td>13.5</td>\n",
              "      <td>72</td>\n",
              "      <td>mazda rx2 coupe</td>\n",
              "    </tr>\n",
              "    <tr>\n",
              "      <th>2</th>\n",
              "      <td>3</td>\n",
              "      <td>36.0</td>\n",
              "      <td>4</td>\n",
              "      <td>107.0</td>\n",
              "      <td>75</td>\n",
              "      <td>2205</td>\n",
              "      <td>14.5</td>\n",
              "      <td>82</td>\n",
              "      <td>honda accord</td>\n",
              "    </tr>\n",
              "    <tr>\n",
              "      <th>3</th>\n",
              "      <td>4</td>\n",
              "      <td>28.0</td>\n",
              "      <td>4</td>\n",
              "      <td>97.0</td>\n",
              "      <td>92</td>\n",
              "      <td>2288</td>\n",
              "      <td>17.0</td>\n",
              "      <td>72</td>\n",
              "      <td>datsun 510 (sw)</td>\n",
              "    </tr>\n",
              "    <tr>\n",
              "      <th>4</th>\n",
              "      <td>5</td>\n",
              "      <td>21.0</td>\n",
              "      <td>6</td>\n",
              "      <td>199.0</td>\n",
              "      <td>90</td>\n",
              "      <td>2648</td>\n",
              "      <td>15.0</td>\n",
              "      <td>70</td>\n",
              "      <td>amc gremlin</td>\n",
              "    </tr>\n",
              "  </tbody>\n",
              "</table>\n",
              "</div>"
            ],
            "text/plain": [
              "   No   mpg  cylinders  ...  acceleration  model_year             car_name\n",
              "0   1  28.0          4  ...          15.5          71  chevrolet vega 2300\n",
              "1   2  19.0          3  ...          13.5          72      mazda rx2 coupe\n",
              "2   3  36.0          4  ...          14.5          82         honda accord\n",
              "3   4  28.0          4  ...          17.0          72      datsun 510 (sw)\n",
              "4   5  21.0          6  ...          15.0          70          amc gremlin\n",
              "\n",
              "[5 rows x 9 columns]"
            ]
          },
          "metadata": {
            "tags": []
          },
          "execution_count": 4
        }
      ]
    },
    {
      "cell_type": "code",
      "metadata": {
        "id": "9SstgcgEMn8C",
        "colab_type": "code",
        "outputId": "bad05a41-8ff7-4a95-c446-1752d532ec46",
        "colab": {
          "base_uri": "https://localhost:8080/",
          "height": 255
        }
      },
      "source": [
        "auto.info()"
      ],
      "execution_count": 0,
      "outputs": [
        {
          "output_type": "stream",
          "text": [
            "<class 'pandas.core.frame.DataFrame'>\n",
            "RangeIndex: 398 entries, 0 to 397\n",
            "Data columns (total 9 columns):\n",
            "No              398 non-null int64\n",
            "mpg             398 non-null float64\n",
            "cylinders       398 non-null int64\n",
            "displacement    398 non-null float64\n",
            "horsepower      398 non-null int64\n",
            "weight          398 non-null int64\n",
            "acceleration    398 non-null float64\n",
            "model_year      398 non-null int64\n",
            "car_name        398 non-null object\n",
            "dtypes: float64(3), int64(5), object(1)\n",
            "memory usage: 28.1+ KB\n"
          ],
          "name": "stdout"
        }
      ]
    },
    {
      "cell_type": "code",
      "metadata": {
        "id": "1ZSzOLI-M_G1",
        "colab_type": "code",
        "outputId": "bbd8d0cc-eec7-4960-e709-234270e15a0b",
        "colab": {
          "base_uri": "https://localhost:8080/",
          "height": 34
        }
      },
      "source": [
        "# convertir cilindros a variable categorica\n",
        "#auto['model year']\n",
        "# objeto serie (analogo a vector en R)\n",
        "auto.model_year = auto.model_year.astype('category')\n",
        "auto.cylinders = auto.cylinders.astype('category')\n",
        "\n",
        "type(auto.model_year)\n"
      ],
      "execution_count": 0,
      "outputs": [
        {
          "output_type": "execute_result",
          "data": {
            "text/plain": [
              "pandas.core.series.Series"
            ]
          },
          "metadata": {
            "tags": []
          },
          "execution_count": 9
        }
      ]
    },
    {
      "cell_type": "code",
      "metadata": {
        "id": "cqI_xKVQMxUw",
        "colab_type": "code",
        "outputId": "7a36d1eb-167c-4188-d441-46b680a6dd11",
        "colab": {
          "base_uri": "https://localhost:8080/",
          "height": 255
        }
      },
      "source": [
        "auto.info()"
      ],
      "execution_count": 0,
      "outputs": [
        {
          "output_type": "stream",
          "text": [
            "<class 'pandas.core.frame.DataFrame'>\n",
            "RangeIndex: 398 entries, 0 to 397\n",
            "Data columns (total 9 columns):\n",
            "No              398 non-null int64\n",
            "mpg             398 non-null float64\n",
            "cylinders       398 non-null category\n",
            "displacement    398 non-null float64\n",
            "horsepower      398 non-null int64\n",
            "weight          398 non-null int64\n",
            "acceleration    398 non-null float64\n",
            "model_year      398 non-null category\n",
            "car_name        398 non-null object\n",
            "dtypes: category(2), float64(3), int64(3), object(1)\n",
            "memory usage: 23.5+ KB\n"
          ],
          "name": "stdout"
        }
      ]
    },
    {
      "cell_type": "code",
      "metadata": {
        "id": "VR1r1FHhOgIv",
        "colab_type": "code",
        "colab": {}
      },
      "source": [
        ""
      ],
      "execution_count": 0,
      "outputs": []
    },
    {
      "cell_type": "markdown",
      "metadata": {
        "id": "OpRufVUIOgvj",
        "colab_type": "text"
      },
      "source": [
        "**Analisis descriptivo**\n",
        "___"
      ]
    },
    {
      "cell_type": "code",
      "metadata": {
        "id": "K_wJQA8VOo7s",
        "colab_type": "code",
        "outputId": "ad746be0-dedd-4371-be69-70ba8d7734a4",
        "colab": {
          "base_uri": "https://localhost:8080/",
          "height": 297
        }
      },
      "source": [
        "# summary en R\n",
        "round(auto.describe(), 2)"
      ],
      "execution_count": 0,
      "outputs": [
        {
          "output_type": "execute_result",
          "data": {
            "text/html": [
              "<div>\n",
              "<style scoped>\n",
              "    .dataframe tbody tr th:only-of-type {\n",
              "        vertical-align: middle;\n",
              "    }\n",
              "\n",
              "    .dataframe tbody tr th {\n",
              "        vertical-align: top;\n",
              "    }\n",
              "\n",
              "    .dataframe thead th {\n",
              "        text-align: right;\n",
              "    }\n",
              "</style>\n",
              "<table border=\"1\" class=\"dataframe\">\n",
              "  <thead>\n",
              "    <tr style=\"text-align: right;\">\n",
              "      <th></th>\n",
              "      <th>No</th>\n",
              "      <th>mpg</th>\n",
              "      <th>displacement</th>\n",
              "      <th>horsepower</th>\n",
              "      <th>weight</th>\n",
              "      <th>acceleration</th>\n",
              "    </tr>\n",
              "  </thead>\n",
              "  <tbody>\n",
              "    <tr>\n",
              "      <th>count</th>\n",
              "      <td>398.00</td>\n",
              "      <td>398.00</td>\n",
              "      <td>398.00</td>\n",
              "      <td>398.00</td>\n",
              "      <td>398.00</td>\n",
              "      <td>398.00</td>\n",
              "    </tr>\n",
              "    <tr>\n",
              "      <th>mean</th>\n",
              "      <td>199.50</td>\n",
              "      <td>23.51</td>\n",
              "      <td>193.43</td>\n",
              "      <td>104.13</td>\n",
              "      <td>2970.42</td>\n",
              "      <td>15.57</td>\n",
              "    </tr>\n",
              "    <tr>\n",
              "      <th>std</th>\n",
              "      <td>115.04</td>\n",
              "      <td>7.82</td>\n",
              "      <td>104.27</td>\n",
              "      <td>38.31</td>\n",
              "      <td>846.84</td>\n",
              "      <td>2.76</td>\n",
              "    </tr>\n",
              "    <tr>\n",
              "      <th>min</th>\n",
              "      <td>1.00</td>\n",
              "      <td>9.00</td>\n",
              "      <td>68.00</td>\n",
              "      <td>46.00</td>\n",
              "      <td>1613.00</td>\n",
              "      <td>8.00</td>\n",
              "    </tr>\n",
              "    <tr>\n",
              "      <th>25%</th>\n",
              "      <td>100.25</td>\n",
              "      <td>17.50</td>\n",
              "      <td>104.25</td>\n",
              "      <td>76.00</td>\n",
              "      <td>2223.75</td>\n",
              "      <td>13.82</td>\n",
              "    </tr>\n",
              "    <tr>\n",
              "      <th>50%</th>\n",
              "      <td>199.50</td>\n",
              "      <td>23.00</td>\n",
              "      <td>148.50</td>\n",
              "      <td>92.00</td>\n",
              "      <td>2803.50</td>\n",
              "      <td>15.50</td>\n",
              "    </tr>\n",
              "    <tr>\n",
              "      <th>75%</th>\n",
              "      <td>298.75</td>\n",
              "      <td>29.00</td>\n",
              "      <td>262.00</td>\n",
              "      <td>125.00</td>\n",
              "      <td>3608.00</td>\n",
              "      <td>17.17</td>\n",
              "    </tr>\n",
              "    <tr>\n",
              "      <th>max</th>\n",
              "      <td>398.00</td>\n",
              "      <td>46.60</td>\n",
              "      <td>455.00</td>\n",
              "      <td>230.00</td>\n",
              "      <td>5140.00</td>\n",
              "      <td>24.80</td>\n",
              "    </tr>\n",
              "  </tbody>\n",
              "</table>\n",
              "</div>"
            ],
            "text/plain": [
              "           No     mpg  displacement  horsepower   weight  acceleration\n",
              "count  398.00  398.00        398.00      398.00   398.00        398.00\n",
              "mean   199.50   23.51        193.43      104.13  2970.42         15.57\n",
              "std    115.04    7.82        104.27       38.31   846.84          2.76\n",
              "min      1.00    9.00         68.00       46.00  1613.00          8.00\n",
              "25%    100.25   17.50        104.25       76.00  2223.75         13.82\n",
              "50%    199.50   23.00        148.50       92.00  2803.50         15.50\n",
              "75%    298.75   29.00        262.00      125.00  3608.00         17.17\n",
              "max    398.00   46.60        455.00      230.00  5140.00         24.80"
            ]
          },
          "metadata": {
            "tags": []
          },
          "execution_count": 25
        }
      ]
    },
    {
      "cell_type": "markdown",
      "metadata": {
        "id": "P2I8ES6pQaCf",
        "colab_type": "text"
      },
      "source": [
        "**Filtros**\n",
        "\n",
        "loc & iloc\n",
        "fltros sobre texto y filtro sobre indices\n"
      ]
    },
    {
      "cell_type": "code",
      "metadata": {
        "id": "X3uVqQ09QYqs",
        "colab_type": "code",
        "outputId": "4096a327-6b67-46b0-d505-acfea945d86b",
        "colab": {
          "base_uri": "https://localhost:8080/",
          "height": 187
        }
      },
      "source": [
        "# filtros por indices\n",
        "auto.iloc[3,]"
      ],
      "execution_count": 0,
      "outputs": [
        {
          "output_type": "execute_result",
          "data": {
            "text/plain": [
              "No                            4\n",
              "mpg                          28\n",
              "cylinders                     4\n",
              "displacement                 97\n",
              "horsepower                   92\n",
              "weight                     2288\n",
              "acceleration                 17\n",
              "model_year                   72\n",
              "car_name        datsun 510 (sw)\n",
              "Name: 3, dtype: object"
            ]
          },
          "metadata": {
            "tags": []
          },
          "execution_count": 16
        }
      ]
    },
    {
      "cell_type": "code",
      "metadata": {
        "id": "dg-7PcgJQ6k6",
        "colab_type": "code",
        "colab": {}
      },
      "source": [
        "# para extraer toda la columa\n",
        "auto.loc[mpg]"
      ],
      "execution_count": 0,
      "outputs": []
    },
    {
      "cell_type": "code",
      "metadata": {
        "id": "8EvLWpqHRXWd",
        "colab_type": "code",
        "outputId": "629f9ecc-c4ec-45e7-8045-78fe89f6aad5",
        "colab": {
          "base_uri": "https://localhost:8080/",
          "height": 204
        }
      },
      "source": [
        "# filtar por carros de 4 y 6 cylindros\n",
        "\n",
        "auto.loc[auto.cylinders == 4 ].head()"
      ],
      "execution_count": 0,
      "outputs": [
        {
          "output_type": "execute_result",
          "data": {
            "text/html": [
              "<div>\n",
              "<style scoped>\n",
              "    .dataframe tbody tr th:only-of-type {\n",
              "        vertical-align: middle;\n",
              "    }\n",
              "\n",
              "    .dataframe tbody tr th {\n",
              "        vertical-align: top;\n",
              "    }\n",
              "\n",
              "    .dataframe thead th {\n",
              "        text-align: right;\n",
              "    }\n",
              "</style>\n",
              "<table border=\"1\" class=\"dataframe\">\n",
              "  <thead>\n",
              "    <tr style=\"text-align: right;\">\n",
              "      <th></th>\n",
              "      <th>No</th>\n",
              "      <th>mpg</th>\n",
              "      <th>cylinders</th>\n",
              "      <th>displacement</th>\n",
              "      <th>horsepower</th>\n",
              "      <th>weight</th>\n",
              "      <th>acceleration</th>\n",
              "      <th>model_year</th>\n",
              "      <th>car_name</th>\n",
              "    </tr>\n",
              "  </thead>\n",
              "  <tbody>\n",
              "    <tr>\n",
              "      <th>0</th>\n",
              "      <td>1</td>\n",
              "      <td>28.0</td>\n",
              "      <td>4</td>\n",
              "      <td>140.0</td>\n",
              "      <td>90</td>\n",
              "      <td>2264</td>\n",
              "      <td>15.5</td>\n",
              "      <td>71</td>\n",
              "      <td>chevrolet vega 2300</td>\n",
              "    </tr>\n",
              "    <tr>\n",
              "      <th>2</th>\n",
              "      <td>3</td>\n",
              "      <td>36.0</td>\n",
              "      <td>4</td>\n",
              "      <td>107.0</td>\n",
              "      <td>75</td>\n",
              "      <td>2205</td>\n",
              "      <td>14.5</td>\n",
              "      <td>82</td>\n",
              "      <td>honda accord</td>\n",
              "    </tr>\n",
              "    <tr>\n",
              "      <th>3</th>\n",
              "      <td>4</td>\n",
              "      <td>28.0</td>\n",
              "      <td>4</td>\n",
              "      <td>97.0</td>\n",
              "      <td>92</td>\n",
              "      <td>2288</td>\n",
              "      <td>17.0</td>\n",
              "      <td>72</td>\n",
              "      <td>datsun 510 (sw)</td>\n",
              "    </tr>\n",
              "    <tr>\n",
              "      <th>5</th>\n",
              "      <td>6</td>\n",
              "      <td>23.0</td>\n",
              "      <td>4</td>\n",
              "      <td>115.0</td>\n",
              "      <td>95</td>\n",
              "      <td>2694</td>\n",
              "      <td>15.0</td>\n",
              "      <td>75</td>\n",
              "      <td>audi 100ls</td>\n",
              "    </tr>\n",
              "    <tr>\n",
              "      <th>7</th>\n",
              "      <td>8</td>\n",
              "      <td>32.9</td>\n",
              "      <td>4</td>\n",
              "      <td>119.0</td>\n",
              "      <td>100</td>\n",
              "      <td>2615</td>\n",
              "      <td>14.8</td>\n",
              "      <td>81</td>\n",
              "      <td>datsun 200sx</td>\n",
              "    </tr>\n",
              "  </tbody>\n",
              "</table>\n",
              "</div>"
            ],
            "text/plain": [
              "   No   mpg cylinders  ...  acceleration  model_year             car_name\n",
              "0   1  28.0         4  ...          15.5          71  chevrolet vega 2300\n",
              "2   3  36.0         4  ...          14.5          82         honda accord\n",
              "3   4  28.0         4  ...          17.0          72      datsun 510 (sw)\n",
              "5   6  23.0         4  ...          15.0          75           audi 100ls\n",
              "7   8  32.9         4  ...          14.8          81         datsun 200sx\n",
              "\n",
              "[5 rows x 9 columns]"
            ]
          },
          "metadata": {
            "tags": []
          },
          "execution_count": 27
        }
      ]
    }
  ]
}